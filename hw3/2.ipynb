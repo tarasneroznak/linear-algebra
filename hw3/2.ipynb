{
 "cells": [
  {
   "cell_type": "code",
   "execution_count": 132,
   "metadata": {},
   "outputs": [],
   "source": [
    "import numpy as np\n",
    "import matplotlib.pyplot as plt\n"
   ]
  },
  {
   "attachments": {},
   "cell_type": "markdown",
   "metadata": {},
   "source": [
    "Find the the Euclidean length of the projection of\n",
    "vector A to the line that comes through the points\n",
    "B and C as shown in the graph.\n",
    "\n",
    "A = [1, -1, 2], B = [0, 1, 4], C = [3, 1, 0]"
   ]
  },
  {
   "cell_type": "code",
   "execution_count": 133,
   "metadata": {},
   "outputs": [
    {
     "name": "stdout",
     "output_type": "stream",
     "text": [
      "2.449489742783178 -0.4082482904638631\n",
      "-1.0\n"
     ]
    }
   ],
   "source": [
    "A = np.array([1,-1,2])\n",
    "B = np.array([0,1,4])\n",
    "C = np.array([3,1,0])\n",
    "\n",
    "BC = C - B\n",
    "angle = np.arccos(np.dot(A, BC) / (np.linalg.norm(A) * np.linalg.norm(BC)))\n",
    "print(np.linalg.norm(A), np.cos(angle))\n",
    "Ax = np.linalg.norm(A) * np.cos(angle)\n",
    "print(Ax)"
   ]
  },
  {
   "cell_type": "code",
   "execution_count": 134,
   "metadata": {},
   "outputs": [
    {
     "name": "stdout",
     "output_type": "stream",
     "text": [
      "[-0.6 -0.   0.8]\n",
      "1.0\n"
     ]
    }
   ],
   "source": [
    "A = np.array([1,-1,2])\n",
    "B = np.array([0,1,4])\n",
    "C = np.array([3,1,0])\n",
    "u = A\n",
    "v = C - B\n",
    "# proj = ((u,v) / |v|^2) * v\n",
    "Ax = (np.dot(u, v) / np.linalg.norm(v) ** 2) * v\n",
    "Ax = [-0.6, 0, 0.8]\n",
    "Ax_length = np.linalg.norm(Ax)\n",
    "Ax_length = 1"
   ]
  }
 ],
 "metadata": {
  "kernelspec": {
   "display_name": "Python 3",
   "language": "python",
   "name": "python3"
  },
  "language_info": {
   "codemirror_mode": {
    "name": "ipython",
    "version": 3
   },
   "file_extension": ".py",
   "mimetype": "text/x-python",
   "name": "python",
   "nbconvert_exporter": "python",
   "pygments_lexer": "ipython3",
   "version": "3.11.1"
  },
  "orig_nbformat": 4,
  "vscode": {
   "interpreter": {
    "hash": "aee8b7b246df8f9039afb4144a1f6fd8d2ca17a180786b69acc140d282b71a49"
   }
  }
 },
 "nbformat": 4,
 "nbformat_minor": 2
}
