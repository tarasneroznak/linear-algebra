{
 "cells": [
  {
   "cell_type": "code",
   "execution_count": 37,
   "metadata": {},
   "outputs": [],
   "source": [
    "import numpy as np\n"
   ]
  },
  {
   "attachments": {},
   "cell_type": "markdown",
   "metadata": {},
   "source": [
    "Determine which angles between two vectors are acute, right, or obtuse:\n",
    "\n",
    "a) v1 = (1, 1, 1), v2 = (1, -2, 1)\n",
    "\n",
    "b) v1 = (3, -1, 0), v2 = (1, 1, 5)\n",
    "\n",
    "c) v1 = (-2, 1, 3), v2 = (2, 0, 1)"
   ]
  },
  {
   "cell_type": "code",
   "execution_count": 38,
   "metadata": {},
   "outputs": [
    {
     "name": "stdout",
     "output_type": "stream",
     "text": [
      "type = right, radiance 1.5707963267948966, degrees 90.0\n",
      "type = acute, radiance 1.448777647859873, degrees 83.00884467526132\n",
      "type = obtuse, radiance 1.6906056111094407, degrees 96.86456633770632\n"
     ]
    }
   ],
   "source": [
    "def angle_type(r):\n",
    "    if (r == np.pi / 2):\n",
    "        return 'right'\n",
    "    if (r > np.pi / 2):\n",
    "        return 'obtuse'\n",
    "    if (r < np.pi / 2):\n",
    "        return 'acute'\n",
    "\n",
    "def angle(v1, v2):\n",
    "    a = np.arccos(np.dot(v1, v2) / (np.linalg.norm(v1) * np.linalg.norm(v2)))\n",
    "    ad = np.degrees(a)\n",
    "    print(f\"type = {angle_type(a)}, radiance {a}, degrees {ad}\")\n",
    "       \n",
    "a_v1 = np.array([1,1,1])\n",
    "a_v2 = np.array([1,-2,1])\n",
    "\n",
    "b_v1 = np.array([3,-1,0])\n",
    "b_v2 = np.array([1,1,5])\n",
    "\n",
    "c_v1 = np.array([-2,1,3])\n",
    "c_v2 = np.array([2,0,1])\n",
    "\n",
    "angle(a_v1, a_v2)\n",
    "angle(b_v1, b_v2)\n",
    "angle(c_v1, c_v2)"
   ]
  }
 ],
 "metadata": {
  "kernelspec": {
   "display_name": "Python 3",
   "language": "python",
   "name": "python3"
  },
  "language_info": {
   "codemirror_mode": {
    "name": "ipython",
    "version": 3
   },
   "file_extension": ".py",
   "mimetype": "text/x-python",
   "name": "python",
   "nbconvert_exporter": "python",
   "pygments_lexer": "ipython3",
   "version": "3.11.1"
  },
  "orig_nbformat": 4,
  "vscode": {
   "interpreter": {
    "hash": "aee8b7b246df8f9039afb4144a1f6fd8d2ca17a180786b69acc140d282b71a49"
   }
  }
 },
 "nbformat": 4,
 "nbformat_minor": 2
}
