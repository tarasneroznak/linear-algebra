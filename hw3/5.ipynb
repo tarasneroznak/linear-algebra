{
 "cells": [
  {
   "cell_type": "code",
   "execution_count": 159,
   "metadata": {},
   "outputs": [],
   "source": [
    "import matplotlib.pyplot as plt\n",
    "import numpy as np\n"
   ]
  },
  {
   "attachments": {},
   "cell_type": "markdown",
   "metadata": {},
   "source": [
    "Find the projection of the point (4, -2, 1) onto the plane that comes through\n",
    "the next three points: A = (1, 1, 0), B = (0, -2, 3), and C = (2, 1, 3)."
   ]
  },
  {
   "cell_type": "code",
   "execution_count": 160,
   "metadata": {},
   "outputs": [
    {
     "data": {
      "text/plain": [
       "array([1., 0., 2.])"
      ]
     },
     "execution_count": 160,
     "metadata": {},
     "output_type": "execute_result"
    }
   ],
   "source": [
    "p = np.array([4,-2,1])\n",
    "\n",
    "A = np.array([1,1,0])\n",
    "B = np.array([0,-2,3])\n",
    "C = np.array([2,1,3])\n",
    "\n",
    "AB = B - A\n",
    "AC = C - A\n",
    "Ap = p - A\n",
    "\n",
    "# right-hand rule\n",
    "normal = np.cross(AB,AC)\n",
    "# plane equation\n",
    "# -9x + 6y + 3z + 3 = 0\n",
    "\n",
    "# Ap * normal = |Ap| * |normal| * cos(a)\n",
    "# proj = ((Ap, normal) / |normal| ^ 2) * normal\n",
    "# px = p - proj\n",
    "px = p - (np.dot(Ap, normal) / np.linalg.norm(normal) ** 2) * normal\n",
    "px"
   ]
  }
 ],
 "metadata": {
  "kernelspec": {
   "display_name": "Python 3",
   "language": "python",
   "name": "python3"
  },
  "language_info": {
   "codemirror_mode": {
    "name": "ipython",
    "version": 3
   },
   "file_extension": ".py",
   "mimetype": "text/x-python",
   "name": "python",
   "nbconvert_exporter": "python",
   "pygments_lexer": "ipython3",
   "version": "3.11.1"
  },
  "orig_nbformat": 4,
  "vscode": {
   "interpreter": {
    "hash": "aee8b7b246df8f9039afb4144a1f6fd8d2ca17a180786b69acc140d282b71a49"
   }
  }
 },
 "nbformat": 4,
 "nbformat_minor": 2
}
