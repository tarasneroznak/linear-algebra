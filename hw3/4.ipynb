{
 "cells": [
  {
   "cell_type": "code",
   "execution_count": 4,
   "metadata": {},
   "outputs": [],
   "source": [
    "import numpy as np\n",
    "import matplotlib.pyplot as plt\n"
   ]
  },
  {
   "attachments": {},
   "cell_type": "markdown",
   "metadata": {},
   "source": [
    "Find the distance from the point [6, 7, 3] to the line that comes through\n",
    "\n",
    "[1, 0, 1] and [0, -1, 2]."
   ]
  },
  {
   "cell_type": "code",
   "execution_count": 5,
   "metadata": {},
   "outputs": [
    {
     "data": {
      "text/plain": [
       "6.683312551921141"
      ]
     },
     "execution_count": 5,
     "metadata": {},
     "output_type": "execute_result"
    }
   ],
   "source": [
    "A = np.array([6,7,3])\n",
    "B = np.array([1,0,1]) \n",
    "C = np.array([0,-1,2]) \n",
    "BC = C - B\n",
    "BA = A - B\n",
    "u = BC / np.linalg.norm(BC)\n",
    "Ap = (np.dot(BA, u)) * u\n",
    "d = np.linalg.norm(BA - Ap)\n",
    "d "
   ]
  },
  {
   "cell_type": "code",
   "execution_count": 6,
   "metadata": {},
   "outputs": [
    {
     "data": {
      "text/plain": [
       "6.683312551921141"
      ]
     },
     "execution_count": 6,
     "metadata": {},
     "output_type": "execute_result"
    }
   ],
   "source": [
    "A = np.array([6,7,3])\n",
    "B = np.array([1,0,1])\n",
    "C = np.array([0,-1,2])\n",
    "BA = A - B\n",
    "BC = C - B\n",
    "# d = || BA x BC || / || BC ||\n",
    "d = np.linalg.norm(np.cross(BA, BC)) / np.linalg.norm(BC)\n",
    "d "
   ]
  }
 ],
 "metadata": {
  "kernelspec": {
   "display_name": "Python 3",
   "language": "python",
   "name": "python3"
  },
  "language_info": {
   "codemirror_mode": {
    "name": "ipython",
    "version": 3
   },
   "file_extension": ".py",
   "mimetype": "text/x-python",
   "name": "python",
   "nbconvert_exporter": "python",
   "pygments_lexer": "ipython3",
   "version": "3.11.1"
  },
  "orig_nbformat": 4,
  "vscode": {
   "interpreter": {
    "hash": "aee8b7b246df8f9039afb4144a1f6fd8d2ca17a180786b69acc140d282b71a49"
   }
  }
 },
 "nbformat": 4,
 "nbformat_minor": 2
}
