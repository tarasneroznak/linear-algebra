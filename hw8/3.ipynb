{
 "cells": [
  {
   "cell_type": "code",
   "execution_count": 18,
   "metadata": {},
   "outputs": [],
   "source": [
    "import numpy as np\n",
    "from sklearn.linear_model import LinearRegression\n"
   ]
  },
  {
   "attachments": {},
   "cell_type": "markdown",
   "metadata": {},
   "source": [
    "There are five 4D vectors:\n",
    "\n",
    "[1, 3, 5, 7],\n",
    "\n",
    "[-1, 2, -3, 0],\n",
    "\n",
    "[0, 1, 1,-1],\n",
    "\n",
    "[0, 2, 1, 1],\n",
    "\n",
    "[-2, 4, -5, 4]\n",
    "\n",
    "Find a 2D plane, so all these vectors almost belong to it.\n"
   ]
  },
  {
   "cell_type": "code",
   "execution_count": 19,
   "metadata": {},
   "outputs": [
    {
     "data": {
      "text/plain": [
       "((1, -1, 0, 0, -2), (3, 2, 1, 2, 4), (5, -3, 1, 1, -5), (7, 0, -1, 1, 4))"
      ]
     },
     "execution_count": 19,
     "metadata": {},
     "output_type": "execute_result"
    }
   ],
   "source": [
    "P = np.array([\n",
    "    [1, 3, 5, 7],\n",
    "    [-1, 2, -3, 0],\n",
    "    [0, 1, 1, -1],\n",
    "    [0, 2, 1, 1],\n",
    "    [-2, 4, -5, 4]\n",
    "])\n",
    "\n",
    "x, y, z, k = zip(*P)\n",
    "x, y, z, k\n"
   ]
  },
  {
   "cell_type": "code",
   "execution_count": 20,
   "metadata": {},
   "outputs": [
    {
     "name": "stdout",
     "output_type": "stream",
     "text": [
      "[1.5 2.1 0.5 0.7]\n",
      "[-1.2  0.   0.6  0. ]\n",
      "[ 1. -1.  0.  0.]\n",
      "[0.5 0.5 0.  0. ]\n",
      "[-1.   0.8  0.5 -0.4]\n"
     ]
    }
   ],
   "source": [
    "\"\"\"\n",
    "b1 = [0,1,c,d]\n",
    "b2 = [1,0,e,f]\n",
    "v0 = [0,0,g,h]\n",
    "\n",
    "v = v0 + b1 * t1 + b2 * t2\n",
    "\n",
    "|0|*t1 + |1|*t2 + |0| = |x1|\n",
    "|1|*t1 + |0|*t2 + |0| = |y1|\n",
    "|c|*t1 + |e|*t2 + |g| = |z1|\n",
    "|d|*t1 + |f|*t2 + |h| = |k1|\n",
    "\n",
    "{ t1 = x1\n",
    "{ t2 = y1\n",
    "\n",
    "{ c*y1 + e*x1 + g = z1\n",
    "{ d*y1 + f*x1 + h = k1\n",
    "\n",
    "|c|   |y1,0,x1,0,1,0|\n",
    "|d|   |0,y1,0,x1,0,1|\n",
    "|e|   | ... |            |z1 |\n",
    "|f| * | ... |          = |w1 |\n",
    "|g|   | ... |            |...|\n",
    "|h|   | ... |\n",
    "\n",
    "\"\"\"\n",
    "\n",
    "for x, y, z, k in P:\n",
    "    A = np.array([\n",
    "        [y, 0, x, 0],\n",
    "        [0, y, 0, x],\n",
    "    ])\n",
    "    b = np.array([z, k])\n",
    "\n",
    "    print(np.linalg.pinv(A).dot(b))\n"
   ]
  },
  {
   "cell_type": "code",
   "execution_count": null,
   "metadata": {},
   "outputs": [],
   "source": [
    "def get_A_b(v):\n",
    "    m = []\n",
    "    b = []\n",
    "    for x, y, z, k in v:\n",
    "        m.append(np.array([[y, 0, x, 0, 1, 0], [0, y, 0, x, 0, 1]]))\n",
    "        b.append(np.array([z, k]))\n",
    "    return np.vstack(m), np.hstack(b)\n"
   ]
  }
 ],
 "metadata": {
  "kernelspec": {
   "display_name": "Python 3",
   "language": "python",
   "name": "python3"
  },
  "language_info": {
   "codemirror_mode": {
    "name": "ipython",
    "version": 3
   },
   "file_extension": ".py",
   "mimetype": "text/x-python",
   "name": "python",
   "nbconvert_exporter": "python",
   "pygments_lexer": "ipython3",
   "version": "3.11.1"
  },
  "orig_nbformat": 4,
  "vscode": {
   "interpreter": {
    "hash": "aee8b7b246df8f9039afb4144a1f6fd8d2ca17a180786b69acc140d282b71a49"
   }
  }
 },
 "nbformat": 4,
 "nbformat_minor": 2
}
