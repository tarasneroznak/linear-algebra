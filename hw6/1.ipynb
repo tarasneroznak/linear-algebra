{
 "cells": [
  {
   "cell_type": "code",
   "execution_count": 49,
   "metadata": {},
   "outputs": [],
   "source": [
    "import numpy as np\n"
   ]
  },
  {
   "attachments": {},
   "cell_type": "markdown",
   "metadata": {},
   "source": [
    "Select orthogonal matrices. Explain your choice:\n"
   ]
  },
  {
   "cell_type": "code",
   "execution_count": 50,
   "metadata": {},
   "outputs": [],
   "source": [
    "def is_identity(M):\n",
    "    return M.dot(np.transpose(M))"
   ]
  },
  {
   "cell_type": "code",
   "execution_count": 51,
   "metadata": {},
   "outputs": [
    {
     "name": "stdout",
     "output_type": "stream",
     "text": [
      "A\n",
      "('det', 1.0)\n",
      "('inv', array([[0.5, 0. ],\n",
      "       [0. , 2. ]]))\n",
      "('transpose', array([[2. , 0. ],\n",
      "       [0. , 0.5]]))\n",
      "('identity', array([[4.  , 0.  ],\n",
      "       [0.  , 0.25]]))\n",
      "B\n",
      "('det', 0.25)\n",
      "('inv', array([[ 0.,  2.],\n",
      "       [-2., -0.]]))\n",
      "('transpose', array([[ 0. ,  0.5],\n",
      "       [-0.5,  0. ]]))\n",
      "('identity', array([[0.25, 0.  ],\n",
      "       [0.  , 0.25]]))\n",
      "C\n",
      "('det', 1.0)\n",
      "('inv', array([[ 0.6,  0.8],\n",
      "       [-0.8,  0.6]]))\n",
      "('transpose', array([[ 0.6,  0.8],\n",
      "       [-0.8,  0.6]]))\n",
      "('identity', array([[ 1.00000000e+00, -2.66453526e-17],\n",
      "       [-2.66453526e-17,  1.00000000e+00]]))\n",
      "D\n",
      "('det', -1.0)\n",
      "('inv', array([[ 0.8,  0.6],\n",
      "       [ 0.6, -0.8]]))\n",
      "('transpose', array([[ 0.8,  0.6],\n",
      "       [ 0.6, -0.8]]))\n",
      "('identity', array([[ 1.00000000e+00, -2.66453526e-17],\n",
      "       [-2.66453526e-17,  1.00000000e+00]]))\n",
      "E\n",
      "('det', -1.0)\n",
      "('inv', array([[0., 1.],\n",
      "       [1., 0.]]))\n",
      "('transpose', array([[0, 1],\n",
      "       [1, 0]]))\n",
      "('identity', array([[1, 0],\n",
      "       [0, 1]]))\n"
     ]
    }
   ],
   "source": [
    "A = np.array([[2, 0],[0, 1/2]])\n",
    "B = np.array([[0, -0.5],[0.5, 0]])\n",
    "C = np.array([[0.6, -0.8],[0.8, 0.6]])\n",
    "D = np.array([[0.8, 0.6],[0.6, -0.8]])\n",
    "E = np.array([[0, 1], [1, 0]])\n",
    "\n",
    "r = [\n",
    "    'A',\n",
    "    ('det', np.linalg.det(A)),\n",
    "    ('inv', np.linalg.inv(A)),\n",
    "    ('transpose', np.transpose(A)),\n",
    "    ('identity', is_identity(A)),\n",
    "    'B',\n",
    "    ('det', np.linalg.det(B)),\n",
    "    ('inv', np.linalg.inv(B)),\n",
    "    ('transpose', np.transpose(B)),\n",
    "    ('identity', is_identity(B)),\n",
    "    'C',\n",
    "    ('det', np.linalg.det(C)),\n",
    "    ('inv', np.linalg.inv(C)),\n",
    "    ('transpose', np.transpose(C)),\n",
    "    ('identity', is_identity(C)),\n",
    "    'D',\n",
    "    ('det', np.linalg.det(D)),\n",
    "    ('inv', np.linalg.inv(D)),\n",
    "    ('transpose', np.transpose(D)),\n",
    "    ('identity', is_identity(D)),\n",
    "    'E',\n",
    "    ('det', np.linalg.det(E)),\n",
    "    ('inv', np.linalg.inv(E)),\n",
    "    ('transpose', np.transpose(E)),\n",
    "    ('identity', is_identity(E)),\n",
    "]\n",
    "\n",
    "for i in r:\n",
    "    print(i)\n"
   ]
  },
  {
   "attachments": {},
   "cell_type": "markdown",
   "metadata": {},
   "source": [
    "A - is not orthogonal matrix, because dot product of A to At isn not the identity, and inverse not equal transpose\n",
    "\n",
    "B - is not orthogonal matrix, because determinant is 0.25\n",
    "\n",
    "C,D,E - are orthogonal matrix, all properties legitime"
   ]
  }
 ],
 "metadata": {
  "kernelspec": {
   "display_name": "Python 3",
   "language": "python",
   "name": "python3"
  },
  "language_info": {
   "codemirror_mode": {
    "name": "ipython",
    "version": 3
   },
   "file_extension": ".py",
   "mimetype": "text/x-python",
   "name": "python",
   "nbconvert_exporter": "python",
   "pygments_lexer": "ipython3",
   "version": "3.11.1"
  },
  "orig_nbformat": 4,
  "vscode": {
   "interpreter": {
    "hash": "aee8b7b246df8f9039afb4144a1f6fd8d2ca17a180786b69acc140d282b71a49"
   }
  }
 },
 "nbformat": 4,
 "nbformat_minor": 2
}
