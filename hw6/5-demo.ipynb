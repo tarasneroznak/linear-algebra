{
 "cells": [
  {
   "cell_type": "code",
   "execution_count": null,
   "metadata": {},
   "outputs": [],
   "source": [
    "import numpy as np\n",
    "import matplotlib.pyplot as plt\n",
    "import matplotlib.patches as plt_patches\n",
    "import matplotlib.collections as plt_collections"
   ]
  },
  {
   "attachments": {},
   "cell_type": "markdown",
   "metadata": {},
   "source": [
    "For any convex polygon (drawn with thick lines) given as a list of its corners:\n",
    "\n",
    "[ (x1, y1), (x2, y2) , … ] \n",
    "\n",
    "find a polygon that is enlarged as shown in the the diagram.\n",
    "\n",
    "Every distance between corresponding sides of the given and the enlarged polygons equals one."
   ]
  },
  {
   "cell_type": "code",
   "execution_count": null,
   "metadata": {},
   "outputs": [],
   "source": [
    "def render(polygons, additional = False):\n",
    "    _, ax = plt.subplots()\n",
    "    patches = []\n",
    "    for polygon in polygons:\n",
    "        p = plt_patches.Polygon(np.array(polygon), closed=True)\n",
    "        patches.append(p)\n",
    "        x, y = zip(*polygon)\n",
    "        plt.scatter(x, y)\n",
    "    pc = plt_collections.PatchCollection(patches, alpha=0.5)\n",
    "    ax.add_collection(pc)\n",
    "    ax.autoscale()\n",
    "    if additional:\n",
    "        additional(ax)\n",
    "    plt.axis('equal')\n",
    "    plt.show()\n"
   ]
  },
  {
   "cell_type": "code",
   "execution_count": null,
   "metadata": {},
   "outputs": [],
   "source": [
    "w = 1\n",
    "polygon = [\n",
    "    np.array([3, 2]),\n",
    "    np.array([2, 4.5]),\n",
    "    np.array([4.5, 6]),\n",
    "    np.array([7, 4.5]),\n",
    "    np.array([6, 2]),\n",
    "]\n",
    "render([polygon])\n"
   ]
  },
  {
   "cell_type": "code",
   "execution_count": null,
   "metadata": {},
   "outputs": [],
   "source": [
    "def direction_vector(v1, v2):\n",
    "    # ab = b - a\n",
    "    return v2 - v1"
   ]
  },
  {
   "cell_type": "code",
   "execution_count": null,
   "metadata": {},
   "outputs": [],
   "source": [
    "def unit_vector(vector):\n",
    "    # a / |a|\n",
    "    return vector / np.linalg.norm(vector)"
   ]
  },
  {
   "cell_type": "code",
   "execution_count": null,
   "metadata": {},
   "outputs": [],
   "source": [
    "def get_angle(v1, v2, counterclockwise=False):\n",
    "    # cos^-1 [ (a,b) / (|a| |b|)].\n",
    "    a = np.arccos(np.dot(v1, v2) / (np.linalg.norm(v1) * np.linalg.norm(v2)))\n",
    "    if counterclockwise:\n",
    "        a = (2 * np.pi) - a\n",
    "    return a / 2\n"
   ]
  },
  {
   "cell_type": "code",
   "execution_count": null,
   "metadata": {},
   "outputs": [],
   "source": [
    "def S(angle):\n",
    "    return 1 / np.sin(angle)"
   ]
  },
  {
   "cell_type": "code",
   "execution_count": null,
   "metadata": {},
   "outputs": [],
   "source": [
    "def R(angle):\n",
    "    return np.array([[np.cos(angle), -np.sin(angle)],\n",
    "                     [np.sin(angle), np.cos(angle)]])\n"
   ]
  },
  {
   "cell_type": "code",
   "execution_count": null,
   "metadata": {},
   "outputs": [],
   "source": [
    "def find_neighbors(p):\n",
    "    r = []\n",
    "    l = len(p)\n",
    "    for i in range(l):\n",
    "        if (i == 0):\n",
    "            r.append([p[i], p[l-1], p[i+1]])\n",
    "        elif (i == l - 1):\n",
    "            r.append([p[i], p[i-1], p[0]])\n",
    "        else:\n",
    "            r.append([p[i], p[i-1], p[i+1]])\n",
    "    return r\n"
   ]
  },
  {
   "cell_type": "code",
   "execution_count": null,
   "metadata": {},
   "outputs": [],
   "source": [
    "vectors = find_neighbors(polygon)\n",
    "vectors[0]"
   ]
  },
  {
   "cell_type": "code",
   "execution_count": null,
   "metadata": {},
   "outputs": [],
   "source": [
    "scaled_polygon = []\n",
    "for vector, prev, next in vectors:\n",
    "    s1 = direction_vector(vector, prev)\n",
    "    s1 = unit_vector(s1)\n",
    "    s2 = direction_vector(vector, next)\n",
    "    s2 = unit_vector(s2)\n",
    "    \n",
    "    angle = get_angle(s1, s2, True)\n",
    "    \n",
    "    rotated_direction_vector = R(angle).dot(s2)\n",
    "    scaled_direction_vector = S(angle) * rotated_direction_vector\n",
    "    moved_direction_vector =  scaled_direction_vector + vector\n",
    "    \n",
    "    scaled_polygon.append(moved_direction_vector)\n",
    "\n",
    "render([polygon, scaled_polygon])\n"
   ]
  },
  {
   "attachments": {},
   "cell_type": "markdown",
   "metadata": {},
   "source": [
    "Single vector example"
   ]
  },
  {
   "cell_type": "code",
   "execution_count": null,
   "metadata": {},
   "outputs": [],
   "source": [
    "vector = polygon[0]\n",
    "prev = polygon[len(polygon) - 1]\n",
    "next = polygon[1]\n",
    "\n",
    "def show(ax):\n",
    "    ax.scatter(*vector, color='red')\n",
    "    ax.annotate('vector', (vector))\n",
    "    ax.scatter(*prev, color='green')\n",
    "    ax.annotate('prev', (prev))\n",
    "    ax.scatter(*next, color='green')\n",
    "    ax.annotate('next', (next))\n",
    "\n",
    "render([polygon], show)"
   ]
  },
  {
   "cell_type": "code",
   "execution_count": null,
   "metadata": {},
   "outputs": [],
   "source": [
    "s1 = direction_vector(vector, prev)\n",
    "s1 = unit_vector(s1)\n",
    "s2 = direction_vector(vector, next)\n",
    "s2 = unit_vector(s2)\n",
    "\n",
    "def show(ax):\n",
    "    ax.scatter(*vector, color='red')\n",
    "    ax.annotate('vector', (vector))\n",
    "    ax.arrow(*vector, *(s1 - vector), width=0.03, color='blue')\n",
    "    ax.scatter(*s1, color='blue', alpha=0.7)\n",
    "    ax.annotate('s1 unit vector', (s1))\n",
    "    ax.arrow(*vector, *(s2 - vector), width=0.03, color='orange')\n",
    "    ax.scatter(*s2, color='orange', alpha=0.7)\n",
    "    ax.annotate('s2 unit vector', (s2))\n",
    "\n",
    "render([polygon], show)\n"
   ]
  },
  {
   "cell_type": "code",
   "execution_count": null,
   "metadata": {},
   "outputs": [],
   "source": [
    "angle = get_angle(s1, s2, True)\n",
    "rotated_direction_vector = R(angle).dot(s2)\n",
    "\n",
    "def show(ax):\n",
    "    ax.scatter(*vector, color='red')\n",
    "    ax.annotate('vector', (vector))\n",
    "    ax.scatter(*s2, color='blue')\n",
    "    # rotation example\n",
    "    for a in np.linspace(0, angle, 10):\n",
    "        ax.scatter(*R(a).dot(s2), color='grey', alpha=0.5)\n",
    "    #\n",
    "    ax.scatter(*rotated_direction_vector, color='green')\n",
    "    ax.annotate('rotaded s1 unit vector', (rotated_direction_vector))\n",
    "\n",
    "render([polygon], show)\n"
   ]
  },
  {
   "cell_type": "code",
   "execution_count": null,
   "metadata": {},
   "outputs": [],
   "source": [
    "scaled_rotated_vector = S(angle) * rotated_direction_vector\n",
    "moved_direction_vector = scaled_rotated_vector + vector\n",
    "\n",
    "def show(ax):\n",
    "    ax.scatter(*vector, color='red')\n",
    "    ax.annotate('vector', (vector))\n",
    "    ax.scatter(*rotated_direction_vector, color='pink')\n",
    "    ax.annotate('rotaded vector', (rotated_direction_vector))\n",
    "    ax.scatter(*scaled_rotated_vector, color='green')\n",
    "    ax.annotate('scaled vector', (scaled_rotated_vector))\n",
    "    ax.arrow(*rotated_direction_vector, *\n",
    "             (scaled_rotated_vector - rotated_direction_vector), width=0.03 , color='pink')\n",
    "\n",
    "    ax.scatter(*moved_direction_vector, color='green')\n",
    "    ax.annotate('vector in new position', (moved_direction_vector))\n",
    "    ax.arrow(*scaled_rotated_vector, *\n",
    "             (moved_direction_vector - scaled_rotated_vector), width=0.03, color='green')\n",
    "\n",
    "render([polygon, scaled_polygon], show)\n"
   ]
  }
 ],
 "metadata": {
  "kernelspec": {
   "display_name": "Python 3",
   "language": "python",
   "name": "python3"
  },
  "language_info": {
   "codemirror_mode": {
    "name": "ipython",
    "version": 3
   },
   "file_extension": ".py",
   "mimetype": "text/x-python",
   "name": "python",
   "nbconvert_exporter": "python",
   "pygments_lexer": "ipython3",
   "version": "3.11.1"
  },
  "orig_nbformat": 4,
  "vscode": {
   "interpreter": {
    "hash": "aee8b7b246df8f9039afb4144a1f6fd8d2ca17a180786b69acc140d282b71a49"
   }
  }
 },
 "nbformat": 4,
 "nbformat_minor": 2
}
