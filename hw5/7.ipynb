{
 "cells": [
  {
   "cell_type": "code",
   "execution_count": 17,
   "metadata": {},
   "outputs": [],
   "source": [
    "import numpy as np\n",
    "import scipy.linalg\n",
    "import sympy"
   ]
  },
  {
   "attachments": {},
   "cell_type": "markdown",
   "metadata": {},
   "source": [
    "Solve the system of equations below:\n",
    "\n",
    "x + y = 1 − z\n",
    "\n",
    "x − 5 = 2z\n",
    "\n",
    "2x + 1 = y + 2z\n",
    "\n",
    "2y + z = 7"
   ]
  },
  {
   "cell_type": "code",
   "execution_count": 18,
   "metadata": {},
   "outputs": [
    {
     "name": "stdout",
     "output_type": "stream",
     "text": [
      "3 [[ 0.86  0.34 -0.1  -0.38]\n",
      " [-0.5  -0.5   0.5   0.5 ]\n",
      " [ 0.58  0.02 -0.3  -0.14]\n",
      " [ 0.06  0.14 -0.1   0.02]]\n",
      "[-1  5 -3] Matrix([[1, 0, 0], [0, 1, 0], [0, 0, 1], [0, 0, 0]]) (0, 1, 2)\n"
     ]
    },
    {
     "data": {
      "text/plain": [
       "array([1, 5, 9, 7])"
      ]
     },
     "execution_count": 18,
     "metadata": {},
     "output_type": "execute_result"
    }
   ],
   "source": [
    "# x + y = 1 − z\n",
    "# x − 5 = 2z\n",
    "# 2x + 1 = y + 2z\n",
    "# 2y + z = 7\n",
    "\n",
    "# 1x + 1y + 1z = 1\n",
    "# 1x + 0y − 2z = 5 \n",
    "# 2x - 1y - 2z = -1 \n",
    "# 0x + 2y + 1z = 7\n",
    "\n",
    "# [-1,5,-3]\n",
    "\n",
    "# a = [x,y,z,k]\n",
    "b = np.array([1,5,-1,7])\n",
    "AA = [\n",
    "    [1,1,1],\n",
    "    [1,0,-2],\n",
    "    [2,1,-2],\n",
    "    [0,2,1]\n",
    "]\n",
    "A = [\n",
    "    [1,1,1,b[0]],\n",
    "    [1,0,-2,b[1]],\n",
    "    [2,1,-2,b[2]],\n",
    "    [0,2,1,b[3]]\n",
    "]\n",
    "# A * a = b\n",
    "# a = Ai * b\n",
    "\n",
    "rank = np.linalg.matrix_rank(AA)\n",
    "print(rank, np.linalg.inv(A))\n",
    "\n",
    "m,p = sympy.Matrix(AA).rref()\n",
    "a = np.array([-1,5,-3])\n",
    "print(a, m, p)\n",
    "# print(np.array(m).dot(b))\n",
    "\"\"\"\n",
    "[\n",
    "    [1, 0, 0, 0],\n",
    "    [0, 1, 0, 0],\n",
    "    [0, 0, 1, 0],\n",
    "    [0, 0, 0, 1]\n",
    "]\n",
    "\"\"\"\n",
    "np.array(AA).dot(a)\n"
   ]
  },
  {
   "cell_type": "markdown",
   "metadata": {},
   "source": []
  }
 ],
 "metadata": {
  "kernelspec": {
   "display_name": "Python 3",
   "language": "python",
   "name": "python3"
  },
  "language_info": {
   "codemirror_mode": {
    "name": "ipython",
    "version": 3
   },
   "file_extension": ".py",
   "mimetype": "text/x-python",
   "name": "python",
   "nbconvert_exporter": "python",
   "pygments_lexer": "ipython3",
   "version": "3.11.1"
  },
  "orig_nbformat": 4,
  "vscode": {
   "interpreter": {
    "hash": "aee8b7b246df8f9039afb4144a1f6fd8d2ca17a180786b69acc140d282b71a49"
   }
  }
 },
 "nbformat": 4,
 "nbformat_minor": 2
}
