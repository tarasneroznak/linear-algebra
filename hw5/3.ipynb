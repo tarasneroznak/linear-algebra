{
 "cells": [
  {
   "cell_type": "code",
   "execution_count": 1,
   "metadata": {},
   "outputs": [],
   "source": [
    "import numpy as np\n"
   ]
  },
  {
   "attachments": {},
   "cell_type": "markdown",
   "metadata": {},
   "source": [
    "Find the matrix that transforms any vector x = [x1, x2, x3] to vector\n",
    "y = [x1, -2x2, -x3]\n"
   ]
  },
  {
   "cell_type": "code",
   "execution_count": 1,
   "metadata": {},
   "outputs": [
    {
     "ename": "NameError",
     "evalue": "name 'np' is not defined",
     "output_type": "error",
     "traceback": [
      "\u001b[0;31m---------------------------------------------------------------------------\u001b[0m",
      "\u001b[0;31mNameError\u001b[0m                                 Traceback (most recent call last)",
      "Cell \u001b[0;32mIn[1], line 14\u001b[0m\n\u001b[1;32m      1\u001b[0m \u001b[39m# A = ?\u001b[39;00m\n\u001b[1;32m      2\u001b[0m \u001b[39m# a = [x,y,z]\u001b[39;00m\n\u001b[1;32m      3\u001b[0m \u001b[39m# b = [x1,-2y1,-z1]\u001b[39;00m\n\u001b[0;32m   (...)\u001b[0m\n\u001b[1;32m     11\u001b[0m \n\u001b[1;32m     12\u001b[0m \u001b[39m# [[1,0,0],[0,-2,0],[0,0,-1]] * [x,y,z] = [x1,-2y1,-z1]\u001b[39;00m\n\u001b[0;32m---> 14\u001b[0m A \u001b[39m=\u001b[39m np\u001b[39m.\u001b[39marray([[\u001b[39m1\u001b[39m,\u001b[39m0\u001b[39m,\u001b[39m0\u001b[39m],[\u001b[39m0\u001b[39m,\u001b[39m-\u001b[39m\u001b[39m2\u001b[39m,\u001b[39m0\u001b[39m],[\u001b[39m0\u001b[39m,\u001b[39m0\u001b[39m,\u001b[39m-\u001b[39m\u001b[39m1\u001b[39m]])\n\u001b[1;32m     15\u001b[0m A\u001b[39m.\u001b[39mdot(np\u001b[39m.\u001b[39marray([\u001b[39m1\u001b[39m,\u001b[39m1\u001b[39m,\u001b[39m1\u001b[39m]))\n",
      "\u001b[0;31mNameError\u001b[0m: name 'np' is not defined"
     ]
    }
   ],
   "source": [
    "# A = ?\n",
    "# a = [x,y,z]\n",
    "# b = [x1,-2y1,-z1]\n",
    "\n",
    "# A * a = b\n",
    "# A * [x,y,z] = [x1,-2y1,-z1]\n",
    "\n",
    "# x1 = a11 * x\n",
    "# y1 = -2 * a22 * y\n",
    "# z1 = -1 * a33 * z\n",
    "\n",
    "# [[1,0,0],[0,-2,0],[0,0,-1]] * [x,y,z] = [x1,-2y1,-z1]\n",
    "\n",
    "A = np.array([[1,0,0],[0,-2,0],[0,0,-1]])\n",
    "A.dot(np.array([1,1,1]))"
   ]
  }
 ],
 "metadata": {
  "kernelspec": {
   "display_name": "Python 3",
   "language": "python",
   "name": "python3"
  },
  "language_info": {
   "codemirror_mode": {
    "name": "ipython",
    "version": 3
   },
   "file_extension": ".py",
   "mimetype": "text/x-python",
   "name": "python",
   "nbconvert_exporter": "python",
   "pygments_lexer": "ipython3",
   "version": "3.11.1"
  },
  "orig_nbformat": 4,
  "vscode": {
   "interpreter": {
    "hash": "aee8b7b246df8f9039afb4144a1f6fd8d2ca17a180786b69acc140d282b71a49"
   }
  }
 },
 "nbformat": 4,
 "nbformat_minor": 2
}
