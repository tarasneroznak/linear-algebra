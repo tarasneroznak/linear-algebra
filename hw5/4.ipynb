{
 "cells": [
  {
   "cell_type": "code",
   "execution_count": 2,
   "metadata": {},
   "outputs": [],
   "source": [
    "import numpy as np\n"
   ]
  },
  {
   "attachments": {},
   "cell_type": "markdown",
   "metadata": {},
   "source": [
    "Find the matrix that transforms any vector x = [x1, x2, x3] to vector\n",
    "y = [x2, -x1, x3]\n"
   ]
  },
  {
   "cell_type": "code",
   "execution_count": 5,
   "metadata": {},
   "outputs": [
    {
     "data": {
      "text/plain": [
       "array([ 2, -1,  3])"
      ]
     },
     "execution_count": 5,
     "metadata": {},
     "output_type": "execute_result"
    }
   ],
   "source": [
    "# A = ?\n",
    "# a = [x,y,z]\n",
    "# b = [y1,-x1,z1]\n",
    "\n",
    "# A * a = b\n",
    "# A * [x,y,z] = [y1,-x1,z1]\n",
    "\n",
    "# x1 = a12 * y\n",
    "# y1 = -1 * a21 * x\n",
    "# z1 = a31 * x + a32 * y + a33 * z\n",
    "\n",
    "# [[0,1,0],[-1,0,0],[0,0,1]] * [x,y,z] = [y1,-x1,z1]\n",
    "\n",
    "A = np.array([[0,1,0],[-1,0,0],[0,0,1]])\n",
    "A.dot(np.array([1,2,3]))\n"
   ]
  }
 ],
 "metadata": {
  "kernelspec": {
   "display_name": "Python 3",
   "language": "python",
   "name": "python3"
  },
  "language_info": {
   "codemirror_mode": {
    "name": "ipython",
    "version": 3
   },
   "file_extension": ".py",
   "mimetype": "text/x-python",
   "name": "python",
   "nbconvert_exporter": "python",
   "pygments_lexer": "ipython3",
   "version": "3.11.1"
  },
  "orig_nbformat": 4,
  "vscode": {
   "interpreter": {
    "hash": "aee8b7b246df8f9039afb4144a1f6fd8d2ca17a180786b69acc140d282b71a49"
   }
  }
 },
 "nbformat": 4,
 "nbformat_minor": 2
}
