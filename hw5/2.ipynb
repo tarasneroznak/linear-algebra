{
 "cells": [
  {
   "cell_type": "code",
   "execution_count": 9,
   "metadata": {},
   "outputs": [],
   "source": [
    "import numpy as np\n"
   ]
  },
  {
   "attachments": {},
   "cell_type": "markdown",
   "metadata": {},
   "source": [
    "Find the matrix that transforms any vector x from 3-dimensional vector space\n",
    "into vector y = 2x."
   ]
  },
  {
   "cell_type": "code",
   "execution_count": 10,
   "metadata": {},
   "outputs": [
    {
     "data": {
      "text/plain": [
       "array([6, 2, 4])"
      ]
     },
     "execution_count": 10,
     "metadata": {},
     "output_type": "execute_result"
    }
   ],
   "source": [
    "# A = ?\n",
    "# a = [x,y,z]\n",
    "# b = [2x,2y,2z]\n",
    "# A * a = b\n",
    "# A * [x,y,z] = [2x,2y,2z]\n",
    "\n",
    "# x1 = 2 * a11 * x\n",
    "# y1 = 2 * a21 * y\n",
    "# z1 = 2 * a21 * z\n",
    "\n",
    "# [[2,0,0],[0,2,0],[0,0,2]] * [x,y,z] = [x1,y1,z1]\n",
    "\n",
    "A = np.array([[2,0,0],[0,2,0],[0,0,2]])\n",
    "A.dot(np.array([3,1,2]))"
   ]
  }
 ],
 "metadata": {
  "kernelspec": {
   "display_name": "Python 3",
   "language": "python",
   "name": "python3"
  },
  "language_info": {
   "codemirror_mode": {
    "name": "ipython",
    "version": 3
   },
   "file_extension": ".py",
   "mimetype": "text/x-python",
   "name": "python",
   "nbconvert_exporter": "python",
   "pygments_lexer": "ipython3",
   "version": "3.11.1"
  },
  "orig_nbformat": 4,
  "vscode": {
   "interpreter": {
    "hash": "aee8b7b246df8f9039afb4144a1f6fd8d2ca17a180786b69acc140d282b71a49"
   }
  }
 },
 "nbformat": 4,
 "nbformat_minor": 2
}
