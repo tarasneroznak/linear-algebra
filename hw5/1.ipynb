{
 "cells": [
  {
   "cell_type": "code",
   "execution_count": 60,
   "metadata": {},
   "outputs": [],
   "source": [
    "import numpy as np\n"
   ]
  },
  {
   "attachments": {},
   "cell_type": "markdown",
   "metadata": {},
   "source": [
    "For the given matrices: \n",
    "\n",
    "A(2 x 3), B(2 x 2), C(3 x 3), D(3 x 4) \n",
    "\n",
    "of (n rows x m columns) find which expression are legit:\n",
    "\n",
    "(a) AB (b) BA (с) AC (d) ACD (e) DtAt (f) C Dt (g) (AtB)t D"
   ]
  },
  {
   "attachments": {},
   "cell_type": "markdown",
   "metadata": {},
   "source": [
    "a. A * B - (2x3)(2x2) `n` 3 and 2 dimentions are not equal, so we can`t multiply matrix\n",
    "\n",
    "b. B * A - (2x2)(2x3) it is legitime, inner `n` are same, new matrix will be (2x3)\n",
    "\n",
    "c. A * C - (2x3)(3x3) it is legitime, inner `n` are same, new matrix will be (2x3)\n",
    "\n",
    "d. A * C * D - it is legitime, AC -> (2x3) and (AC)D => (2x3)(3x4). new matrix will be (2x4)\n",
    "\n",
    "e. Dt * At - it is legitime, after transpose D(3x4) => Dt(4x3) and A(2x3) => At(3x2), so new matrix will be (4x2)\n",
    "\n",
    "f. C * Dt - C(3x3) * Dt(4x3), C columns count is not equal D rows count, it is not legitim\n",
    "\n",
    "g. (At * B)t * D - it is legitime, At(3x2), B(2x2), (At*B)t(2x3), D(3x4), new matrix will be (2x4)"
   ]
  },
  {
   "cell_type": "code",
   "execution_count": 61,
   "metadata": {},
   "outputs": [
    {
     "data": {
      "text/plain": [
       "(array([[1, 2, 3],\n",
       "        [4, 7, 5]]),\n",
       " array([[1, 2],\n",
       "        [4, 7]]),\n",
       " array([[1, 2, 3],\n",
       "        [4, 7, 1],\n",
       "        [3, 5, 7]]),\n",
       " array([[1, 2, 4, 1],\n",
       "        [4, 7, 6, 3],\n",
       "        [3, 5, 7, 1]]))"
      ]
     },
     "execution_count": 61,
     "metadata": {},
     "output_type": "execute_result"
    }
   ],
   "source": [
    "A = np.array([\n",
    "    [1,2,3],\n",
    "    [4,7,5],\n",
    "])\n",
    "B = np.array([\n",
    "    [1,2],\n",
    "    [4,7],\n",
    "])\n",
    "C = np.array([\n",
    "    [1,2,3],\n",
    "    [4,7,1],\n",
    "    [3,5,7],\n",
    "])\n",
    "D = np.array([\n",
    "    [1,2,4,1],\n",
    "    [4,7,6,3],\n",
    "    [3,5,7,1],\n",
    "])\n",
    "\n",
    "A,B,C,D"
   ]
  }
 ],
 "metadata": {
  "kernelspec": {
   "display_name": "Python 3",
   "language": "python",
   "name": "python3"
  },
  "language_info": {
   "codemirror_mode": {
    "name": "ipython",
    "version": 3
   },
   "file_extension": ".py",
   "mimetype": "text/x-python",
   "name": "python",
   "nbconvert_exporter": "python",
   "pygments_lexer": "ipython3",
   "version": "3.11.1"
  },
  "orig_nbformat": 4,
  "vscode": {
   "interpreter": {
    "hash": "aee8b7b246df8f9039afb4144a1f6fd8d2ca17a180786b69acc140d282b71a49"
   }
  }
 },
 "nbformat": 4,
 "nbformat_minor": 2
}
