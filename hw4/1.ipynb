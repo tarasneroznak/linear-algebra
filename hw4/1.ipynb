{
 "cells": [
  {
   "cell_type": "code",
   "execution_count": 1,
   "metadata": {},
   "outputs": [],
   "source": [
    "import numpy as np\n"
   ]
  },
  {
   "attachments": {},
   "cell_type": "markdown",
   "metadata": {},
   "source": [
    "The line intersects axes at (0, 3) and (4, 0).\n",
    "\n",
    "Find the equation of the line in the hyperplane form: ( n ,v ) = d\n",
    "\n",
    "Make || n || = 1 and find the distance to the line from the origin d."
   ]
  },
  {
   "cell_type": "code",
   "execution_count": 2,
   "metadata": {},
   "outputs": [
    {
     "data": {
      "text/plain": [
       "(array([0.6, 0.8]), 1.0, 2.4000000000000004)"
      ]
     },
     "execution_count": 2,
     "metadata": {},
     "output_type": "execute_result"
    }
   ],
   "source": [
    "v1 = np.array([0,3])\n",
    "v2 = np.array([4,0])\n",
    "v3 = v1 - v2\n",
    "normal = (1 / np.linalg.norm(v3)) * np.array([v3[1],-v3[0]])\n",
    "normal_d = np.linalg.norm(normal)\n",
    "d = np.dot(v2, normal)\n",
    "normal, normal_d, d"
   ]
  }
 ],
 "metadata": {
  "kernelspec": {
   "display_name": "Python 3",
   "language": "python",
   "name": "python3"
  },
  "language_info": {
   "codemirror_mode": {
    "name": "ipython",
    "version": 3
   },
   "file_extension": ".py",
   "mimetype": "text/x-python",
   "name": "python",
   "nbconvert_exporter": "python",
   "pygments_lexer": "ipython3",
   "version": "3.11.1"
  },
  "orig_nbformat": 4,
  "vscode": {
   "interpreter": {
    "hash": "aee8b7b246df8f9039afb4144a1f6fd8d2ca17a180786b69acc140d282b71a49"
   }
  }
 },
 "nbformat": 4,
 "nbformat_minor": 2
}
