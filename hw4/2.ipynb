{
 "cells": [
  {
   "cell_type": "code",
   "execution_count": 115,
   "metadata": {},
   "outputs": [],
   "source": [
    "import numpy as np\n"
   ]
  },
  {
   "attachments": {},
   "cell_type": "markdown",
   "metadata": {},
   "source": [
    "Find the distance from the point [1, 1, 2] to the plane x + y - z = 1. "
   ]
  },
  {
   "cell_type": "code",
   "execution_count": 116,
   "metadata": {},
   "outputs": [
    {
     "data": {
      "text/plain": [
       "0.5773502691896258"
      ]
     },
     "execution_count": 116,
     "metadata": {},
     "output_type": "execute_result"
    }
   ],
   "source": [
    "p = np.array([1,1,2])\n",
    "# x + y - z = 1\n",
    "normal = np.array([1,1,-1])\n",
    "po = np.array([1,0,0])\n",
    "# px = p + (p - po, n) / ||n||^2\n",
    "px = p + (np.dot(p - po, normal) / np.linalg.norm(normal) ** 2)\n",
    "d = np.linalg.norm(p - px)\n",
    "d"
   ]
  },
  {
   "cell_type": "code",
   "execution_count": 117,
   "metadata": {},
   "outputs": [
    {
     "data": {
      "text/plain": [
       "0.5773502691896258"
      ]
     },
     "execution_count": 117,
     "metadata": {},
     "output_type": "execute_result"
    }
   ],
   "source": [
    "p = np.array([1,1,2])\n",
    "# Ax + By + Cz + D = 0\n",
    "# x + y - z = 1\n",
    "# x + y - z - 1 = 0\n",
    "D = -1\n",
    "# [A,B,C] = [1,1,-1] => n - normal vector\n",
    "n = np.array([1,1,-1])\n",
    "# d = |(n * p) + D| / ||n||\n",
    "d = np.abs(np.dot(n,p) + D) / np.linalg.norm(n)\n",
    "d\n",
    "\n"
   ]
  }
 ],
 "metadata": {
  "kernelspec": {
   "display_name": "Python 3",
   "language": "python",
   "name": "python3"
  },
  "language_info": {
   "codemirror_mode": {
    "name": "ipython",
    "version": 3
   },
   "file_extension": ".py",
   "mimetype": "text/x-python",
   "name": "python",
   "nbconvert_exporter": "python",
   "pygments_lexer": "ipython3",
   "version": "3.11.1"
  },
  "orig_nbformat": 4,
  "vscode": {
   "interpreter": {
    "hash": "aee8b7b246df8f9039afb4144a1f6fd8d2ca17a180786b69acc140d282b71a49"
   }
  }
 },
 "nbformat": 4,
 "nbformat_minor": 2
}
