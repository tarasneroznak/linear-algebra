{
 "cells": [
  {
   "cell_type": "code",
   "execution_count": 540,
   "metadata": {},
   "outputs": [],
   "source": [
    "import numpy as np\n",
    "import matplotlib.pyplot as plt"
   ]
  },
  {
   "attachments": {},
   "cell_type": "markdown",
   "metadata": {},
   "source": [
    "The camera is placed at 2.5 meters above the floor and\n",
    "directed exactly to the room’s corner which is the origin\n",
    "of the global reference frame as shown in the picture.\n",
    "\n",
    "The roll angle of the camera is 0.\n",
    "Find the extrinsic camera matrix\n"
   ]
  },
  {
   "cell_type": "code",
   "execution_count": 541,
   "metadata": {},
   "outputs": [],
   "source": [
    "camera_origin = np.array([5, 5, 2.5])"
   ]
  },
  {
   "cell_type": "code",
   "execution_count": 542,
   "metadata": {},
   "outputs": [],
   "source": [
    "def angle(v1, v2):\n",
    "    return np.arccos(np.dot(v1, v2) / (np.linalg.norm(v1) * np.linalg.norm(v2)))\n",
    "\n",
    "\n",
    "a1 = np.deg2rad(90 + 45)\n",
    "a2 = np.deg2rad(-90) - angle(camera_origin, np.array([5, 5, 0]))\n",
    "a3 = 0"
   ]
  },
  {
   "cell_type": "code",
   "execution_count": 543,
   "metadata": {},
   "outputs": [
    {
     "data": {
      "text/plain": [
       "array([[-0.71,  0.71, -0.  , -0.  ],\n",
       "       [ 0.24,  0.24, -0.94, -0.  ],\n",
       "       [-0.67, -0.67, -0.33,  7.5 ]])"
      ]
     },
     "execution_count": 543,
     "metadata": {},
     "output_type": "execute_result"
    }
   ],
   "source": [
    "c1 = np.cos(a1)\n",
    "c2 = np.cos(a2)\n",
    "c3 = np.cos(a3)\n",
    "s1 = np.sin(a1)\n",
    "s2 = np.sin(a2)\n",
    "s3 = np.sin(a3)\n",
    "\n",
    "ZXZ = np.array([\n",
    "    [c1*c3 - c2*s1*s3, -c1*s3 - c2*c3*s1, s1*s2],\n",
    "    [c3*s1 + c1*c2*s3, c1*c2*c3 - s1*s3, -c1*s2],\n",
    "    [s2*s3, c3*s2, c2]\n",
    "])\n",
    "\n",
    "E = np.column_stack((ZXZ.T, -ZXZ.T.dot(camera_origin)))\n",
    "E.round(2)"
   ]
  },
  {
   "cell_type": "code",
   "execution_count": 544,
   "metadata": {},
   "outputs": [
    {
     "data": {
      "text/plain": [
       "array([-0. , -0. ,  7.5])"
      ]
     },
     "execution_count": 544,
     "metadata": {},
     "output_type": "execute_result"
    }
   ],
   "source": [
    "E.dot(np.array([0, 0, 0, 1])).round(2)"
   ]
  },
  {
   "cell_type": "code",
   "execution_count": 545,
   "metadata": {},
   "outputs": [
    {
     "data": {
      "text/plain": [
       "array([0.71, 0.24, 6.83])"
      ]
     },
     "execution_count": 545,
     "metadata": {},
     "output_type": "execute_result"
    }
   ],
   "source": [
    "E.dot(np.array([0, 1, 0, 1])).round(2)"
   ]
  },
  {
   "cell_type": "code",
   "execution_count": 546,
   "metadata": {},
   "outputs": [
    {
     "data": {
      "text/plain": [
       "array([[-0.71,  0.71,  0.  , -0.  ],\n",
       "       [ 0.24,  0.24, -0.94, -0.  ],\n",
       "       [-0.67, -0.67, -0.33,  7.5 ]])"
      ]
     },
     "execution_count": 546,
     "metadata": {},
     "output_type": "execute_result"
    }
   ],
   "source": [
    "R1 = np.array([\n",
    "    [np.cos(a1), -np.sin(a1), 0],\n",
    "    [np.sin(a1), np.cos(a1), 0],\n",
    "    [0, 0, 1]\n",
    "])\n",
    "R2 = np.array([\n",
    "    [1, 0, 0],\n",
    "    [0, np.cos(a2), -np.sin(a2)],\n",
    "    [0, np.sin(a2), np.cos(a2)]\n",
    "])\n",
    "R3 = np.array([\n",
    "    [np.cos(a3), -np.sin(a3), 0],\n",
    "    [np.sin(a3), np.cos(a3), 0],\n",
    "    [0, 0, 1]\n",
    "])\n",
    "\n",
    "R = R1.dot(R2.dot(R3))\n",
    "\n",
    "E = np.column_stack((R.T, -R.T.dot(camera_origin)))\n",
    "E.round(2)"
   ]
  },
  {
   "cell_type": "code",
   "execution_count": 547,
   "metadata": {},
   "outputs": [
    {
     "name": "stdout",
     "output_type": "stream",
     "text": [
      "[-0.  -0.   7.5] [-0.71  0.24  6.83] [0.71 0.24 6.83] [-0.   -0.94  7.17]\n"
     ]
    }
   ],
   "source": [
    "print(\n",
    "    E.dot(np.array([0, 0, 0, 1])).round(2),\n",
    "    E.dot(np.array([1, 0, 0, 1])).round(2),\n",
    "    E.dot(np.array([0, 1, 0, 1])).round(2),\n",
    "    E.dot(np.array([0, 0, 1, 1])).round(2),\n",
    ")"
   ]
  }
 ],
 "metadata": {
  "kernelspec": {
   "display_name": "Python 3",
   "language": "python",
   "name": "python3"
  },
  "language_info": {
   "codemirror_mode": {
    "name": "ipython",
    "version": 3
   },
   "file_extension": ".py",
   "mimetype": "text/x-python",
   "name": "python",
   "nbconvert_exporter": "python",
   "pygments_lexer": "ipython3",
   "version": "3.11.1"
  },
  "orig_nbformat": 4,
  "vscode": {
   "interpreter": {
    "hash": "aee8b7b246df8f9039afb4144a1f6fd8d2ca17a180786b69acc140d282b71a49"
   }
  }
 },
 "nbformat": 4,
 "nbformat_minor": 2
}
