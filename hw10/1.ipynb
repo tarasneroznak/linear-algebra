{
 "cells": [
  {
   "cell_type": "code",
   "execution_count": 45,
   "metadata": {},
   "outputs": [],
   "source": [
    "import numpy as np"
   ]
  },
  {
   "attachments": {},
   "cell_type": "markdown",
   "metadata": {},
   "source": [
    "Find the intrinsic matrix of the camera, if we know that its optical axis comes\n",
    "through the center of the image of 1200 by 800 pixels and its horizontal field\n",
    "of view is 90 degrees.\n"
   ]
  },
  {
   "cell_type": "code",
   "execution_count": 46,
   "metadata": {},
   "outputs": [
    {
     "data": {
      "text/plain": [
       "[[600.0000000000001, 0, 600.0], [0, 600.0000000000001, 400.0], [0, 0, 1]]"
      ]
     },
     "execution_count": 46,
     "metadata": {},
     "output_type": "execute_result"
    }
   ],
   "source": [
    "optical_axis = np.array([1200, 800])\n",
    "optical_axis_center = optical_axis / 2\n",
    "fov = np.deg2rad(90)\n",
    "# fov = 2 * np.arctan(width / focal_length)\n",
    "# focal_length = width / np.tan(fov / 2)\n",
    "focal_length = optical_axis_center[0] / np.tan(fov / 2)  # 600\n",
    "[\n",
    "    [focal_length, 0, optical_axis_center[0]],\n",
    "    [0, focal_length, optical_axis_center[1]],\n",
    "    [0, 0, 1],\n",
    "]"
   ]
  }
 ],
 "metadata": {
  "kernelspec": {
   "display_name": "Python 3",
   "language": "python",
   "name": "python3"
  },
  "language_info": {
   "codemirror_mode": {
    "name": "ipython",
    "version": 3
   },
   "file_extension": ".py",
   "mimetype": "text/x-python",
   "name": "python",
   "nbconvert_exporter": "python",
   "pygments_lexer": "ipython3",
   "version": "3.11.1"
  },
  "orig_nbformat": 4,
  "vscode": {
   "interpreter": {
    "hash": "aee8b7b246df8f9039afb4144a1f6fd8d2ca17a180786b69acc140d282b71a49"
   }
  }
 },
 "nbformat": 4,
 "nbformat_minor": 2
}
