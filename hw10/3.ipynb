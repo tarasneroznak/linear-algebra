{
 "cells": [
  {
   "cell_type": "code",
   "execution_count": 252,
   "metadata": {},
   "outputs": [],
   "source": [
    "import numpy as np"
   ]
  },
  {
   "attachments": {},
   "cell_type": "markdown",
   "metadata": {},
   "source": [
    "Find the pitch angle of the camera of the drone if\n",
    "the horizon line is at v = 100 pixels (measured from\n",
    "the top of the image) and the intrinsic matrix K is:\n",
    "\n",
    "```\n",
    "    700  0  600\n",
    "K = 0   700 400\n",
    "    0    0   1\n",
    "```\n",
    "\n",
    "The optical axis comes through the center of 1200 by\n",
    "800 pixels image.\n"
   ]
  },
  {
   "cell_type": "code",
   "execution_count": 253,
   "metadata": {},
   "outputs": [],
   "source": [
    "horizontal_line = 100\n",
    "optical_axis = np.array([1200, 800])\n",
    "optical_axis_center = optical_axis / 2\n",
    "focal_length = 700"
   ]
  },
  {
   "cell_type": "code",
   "execution_count": 254,
   "metadata": {},
   "outputs": [
    {
     "data": {
      "text/plain": [
       "(1.1971195185858132, 68.5898959877)"
      ]
     },
     "execution_count": 254,
     "metadata": {},
     "output_type": "execute_result"
    }
   ],
   "source": [
    "z = 700\n",
    "x = 600\n",
    "y = 400\n",
    "\n",
    "a = np.tan(y - horizontal_line / z)\n",
    "a, np.degrees(a)"
   ]
  }
 ],
 "metadata": {
  "kernelspec": {
   "display_name": "Python 3",
   "language": "python",
   "name": "python3"
  },
  "language_info": {
   "codemirror_mode": {
    "name": "ipython",
    "version": 3
   },
   "file_extension": ".py",
   "mimetype": "text/x-python",
   "name": "python",
   "nbconvert_exporter": "python",
   "pygments_lexer": "ipython3",
   "version": "3.11.1"
  },
  "orig_nbformat": 4,
  "vscode": {
   "interpreter": {
    "hash": "aee8b7b246df8f9039afb4144a1f6fd8d2ca17a180786b69acc140d282b71a49"
   }
  }
 },
 "nbformat": 4,
 "nbformat_minor": 2
}
