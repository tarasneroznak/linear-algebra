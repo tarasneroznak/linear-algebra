{
 "cells": [
  {
   "cell_type": "code",
   "execution_count": 83,
   "metadata": {},
   "outputs": [],
   "source": [
    "import numpy as np"
   ]
  },
  {
   "attachments": {},
   "cell_type": "markdown",
   "metadata": {},
   "source": [
    "a = (0, -1, 1)\n",
    "b = (0, 4, 0)\n",
    "c = (2, 1, 4)"
   ]
  },
  {
   "cell_type": "code",
   "execution_count": 84,
   "metadata": {},
   "outputs": [
    {
     "name": "stdout",
     "output_type": "stream",
     "text": [
      "### L1\n",
      "['a = b', 6]\n",
      "['b = a', 6]\n",
      "['c = a', 7]\n",
      "### L2\n",
      "['a = c', 4.123105625617661]\n",
      "['b = a', 5.0990195135927845]\n",
      "['c = a', 4.123105625617661]\n",
      "### L inf\n",
      "['a = c', 3]\n",
      "['b = c', 4]\n",
      "['c = a', 3]\n"
     ]
    }
   ],
   "source": [
    "def l1_length(v1, v2):\n",
    "    v = v2 - v1\n",
    "    return np.sum(np.abs(v))\n",
    "\n",
    "def l2_length(v1, v2):\n",
    "    v = v2 - v1\n",
    "    return np.sqrt(np.sum(np.power(v, 2)))\n",
    "\n",
    "def l_inf_length(v1, v2):\n",
    "    v = v2 - v1\n",
    "    return np.max(np.abs(v))\n",
    "\n",
    "def nearest_for_each(v, distance):\n",
    "    for (k1,l1) in v:\n",
    "        minimal = ['', float('inf')]\n",
    "        for (k2,l2) in v:\n",
    "            if (np.not_equal(l1,l2).any()):\n",
    "                d = distance(l1,l2)\n",
    "                if (d < minimal[1]):\n",
    "                    minimal[0] = k1 + ' = ' + k2\n",
    "                    minimal[1] = d\n",
    "        print(minimal)\n",
    "\n",
    "a = np.array([0, -1, 1])\n",
    "b = np.array([0, 4, 0])\n",
    "c = np.array([2, 1, 4])\n",
    "\n",
    "print(\"### L1\")\n",
    "nearest_for_each([('a',a),('b',b),('c',c)], l1_length)\n",
    "\n",
    "print(\"### L2\")\n",
    "nearest_for_each([('a',a),('b',b),('c',c)], l2_length)\n",
    "\n",
    "print(\"### L inf\")\n",
    "nearest_for_each([('a',a),('b',b),('c',c)], l_inf_length)\n",
    "\n"
   ]
  }
 ],
 "metadata": {
  "kernelspec": {
   "display_name": "Python 3",
   "language": "python",
   "name": "python3"
  },
  "language_info": {
   "codemirror_mode": {
    "name": "ipython",
    "version": 3
   },
   "file_extension": ".py",
   "mimetype": "text/x-python",
   "name": "python",
   "nbconvert_exporter": "python",
   "pygments_lexer": "ipython3",
   "version": "3.11.1"
  },
  "orig_nbformat": 4,
  "vscode": {
   "interpreter": {
    "hash": "aee8b7b246df8f9039afb4144a1f6fd8d2ca17a180786b69acc140d282b71a49"
   }
  }
 },
 "nbformat": 4,
 "nbformat_minor": 2
}
