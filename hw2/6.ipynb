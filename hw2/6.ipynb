{
 "cells": [
  {
   "cell_type": "code",
   "execution_count": 27,
   "metadata": {},
   "outputs": [],
   "source": [
    "import numpy as np"
   ]
  },
  {
   "cell_type": "code",
   "execution_count": 28,
   "metadata": {},
   "outputs": [
    {
     "name": "stdout",
     "output_type": "stream",
     "text": [
      "Nearest L1\n",
      "['A55', 3.46] Old Indian, Main line (A55)\n",
      "['A53', 4.183999999999999] Old Indian (A53)\n",
      "['C41', 5.821] Philidor Defense (C41)\n",
      "['A21', 7.284000000000001] English (A21)\n",
      "['E61', 7.336] King's Indian (E61)\n",
      "['A41', 7.402] Queen's Pawn Game (with ...d6) (A41)\n",
      "['A56', 7.513] Benoni Defense (A56)\n",
      "['E95', 7.605] King's Indian, Orthodox, 7...Nbd7, 8.Re1 (E95)\n",
      "['A27', 7.661] English, Three Knights System (A27)\n",
      "['E96', 7.755] King's Indian, Orthodox, 7...Nbd7, Main line (E96)\n",
      "Nearest L2\n",
      "['A53', 0.8844648099274496] Old Indian (A53)\n",
      "['A55', 1.0106176329354244] Old Indian, Main line (A55)\n",
      "['A41', 1.5177107761362174] Queen's Pawn Game (with ...d6) (A41)\n",
      "['A21', 1.5303130398712537] English (A21)\n",
      "['C41', 1.632522281624359] Philidor Defense (C41)\n",
      "['A51', 1.767700766532616] Budapest Gambit (A51)\n",
      "['A50', 1.7723806024666366] Queen's Pawn Game (A50)\n",
      "['A28', 1.7962488691715297] English (A28)\n",
      "['A27', 1.805460882988053] English, Three Knights System (A27)\n",
      "['A20', 1.8558246145581747] English (A20)\n",
      "Diff\n",
      "{'E96', 'E95', 'E61', 'A56'}\n"
     ]
    }
   ],
   "source": [
    "def find_nearest_both(patern, codes, vectors):\n",
    "    result = []\n",
    "    for i in range(len(vectors)):\n",
    "        l1_d = np.linalg.norm(vectors[i] - patern, 1)\n",
    "        l2_d = np.linalg.norm(vectors[i] - patern)\n",
    "        result.append([codes[i], (l1_d, l2_d), l1_d, l2_d])\n",
    "    return sorted(result,key=lambda x: x[1],reverse=False)\n",
    "\n",
    "def find_nearest(patern, codes, vectors, distance):\n",
    "    result = []\n",
    "    for i in range(len(vectors)):\n",
    "        d = 0\n",
    "        if distance == 1:\n",
    "            d = np.linalg.norm(vectors[i] - patern, 1)\n",
    "        if distance == 2:\n",
    "            d = np.linalg.norm(vectors[i] - patern)\n",
    "        result.append([codes[i], d])\n",
    "    return sorted(result,key=lambda x: x[1],reverse=False)\n",
    "\n",
    "debuts = np.loadtxt(\"debuts.csv\", quotechar='\"', delimiter=',', dtype=str)\n",
    "debuts_data = {}\n",
    "for d in debuts[1:]:\n",
    "    debuts_data[d[0]] = d[1]\n",
    "chess_openings = np.loadtxt(\"chess_openings.csv\", delimiter=\",\", dtype=str)\n",
    "code = 'A54'\n",
    "name = 'Old Indian, Ukrainian Variation, 4.Nf3 (A54)'\n",
    "codes = []\n",
    "vectors = []\n",
    "patern = []\n",
    "for i in chess_openings:\n",
    "    c = i[0]\n",
    "    l = np.array(list(map(float, i[1:])))\n",
    "    if code == c:\n",
    "        patern = l\n",
    "    else:\n",
    "        codes.append(c)\n",
    "        vectors.append(l)\n",
    "\n",
    "\n",
    "result_l1 = find_nearest(patern, codes, vectors, 1)[:10]\n",
    "result_l2 = find_nearest(patern, codes, vectors, 2)[:10]\n",
    "result_both = find_nearest_both(patern, codes, vectors)[:10]\n",
    "\n",
    "print(\"Nearest L1\")\n",
    "for n in range(10): print(result_l1[n], debuts_data[result_l1[n][0]])\n",
    "\n",
    "print(\"Nearest L2\")\n",
    "for n in range(10): print(result_l2[n], debuts_data[result_l2[n][0]])\n",
    "\n",
    "print(\"Diff\")\n",
    "l1r = [k for k,d in result_l1]\n",
    "l2r = [k for k,d in result_l2]\n",
    "print(set(l1r) - set(l2r))"
   ]
  },
  {
   "attachments": {},
   "cell_type": "markdown",
   "metadata": {},
   "source": [
    "\n",
    "Nearest L1\n",
    "['A55', 3.46] Old Indian, Main line (A55)\n",
    "['A53', 4.183999999999999] Old Indian (A53)\n",
    "['C41', 5.821] Philidor Defense (C41)\n",
    "['A21', 7.284000000000001] English (A21)\n",
    "['E61', 7.336] King's Indian (E61)\n",
    "['A41', 7.402] Queen's Pawn Game (with ...d6) (A41)\n",
    "['A56', 7.513] Benoni Defense (A56)\n",
    "['E95', 7.605] King's Indian, Orthodox, 7...Nbd7, 8.Re1 (E95)\n",
    "['A27', 7.661] English, Three Knights System (A27)\n",
    "['E96', 7.755] King's Indian, Orthodox, 7...Nbd7, Main line (E96)\n",
    "\n",
    "Nearest L2\n",
    "['A53', 0.8844648099274496] Old Indian (A53)\n",
    "['A55', 1.0106176329354244] Old Indian, Main line (A55)\n",
    "['A41', 1.5177107761362174] Queen's Pawn Game (with ...d6) (A41)\n",
    "['A21', 1.5303130398712537] English (A21)\n",
    "['C41', 1.632522281624359] Philidor Defense (C41)\n",
    "['A51', 1.767700766532616] Budapest Gambit (A51)\n",
    "['A50', 1.7723806024666366] Queen's Pawn Game (A50)\n",
    "['A28', 1.7962488691715297] English (A28)\n",
    "['A27', 1.805460882988053] English, Three Knights System (A27)\n",
    "['A20', 1.8558246145581747] English (A20)"
   ]
  }
 ],
 "metadata": {
  "kernelspec": {
   "display_name": "Python 3",
   "language": "python",
   "name": "python3"
  },
  "language_info": {
   "codemirror_mode": {
    "name": "ipython",
    "version": 3
   },
   "file_extension": ".py",
   "mimetype": "text/x-python",
   "name": "python",
   "nbconvert_exporter": "python",
   "pygments_lexer": "ipython3",
   "version": "3.11.1"
  },
  "vscode": {
   "interpreter": {
    "hash": "aee8b7b246df8f9039afb4144a1f6fd8d2ca17a180786b69acc140d282b71a49"
   }
  }
 },
 "nbformat": 4,
 "nbformat_minor": 4
}
