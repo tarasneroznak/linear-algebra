{
 "cells": [
  {
   "cell_type": "code",
   "execution_count": 565,
   "metadata": {},
   "outputs": [],
   "source": [
    "import numpy as np\n",
    "from sklearn.linear_model import LinearRegression\n",
    "import matplotlib.pyplot as plt\n"
   ]
  },
  {
   "attachments": {},
   "cell_type": "markdown",
   "metadata": {},
   "source": [
    "There are five 4D vectors:\n",
    "\n",
    "[1, 3, 5, 7], [-1, 2, -3, 0], [0, 1, 1,-1], [0, 2, 1, 1], [-2, 4, -5, 4]\n",
    "\n",
    "Find a 2D plane, so all these vectors almost belong to it. Use SVD to find it.\n"
   ]
  },
  {
   "cell_type": "code",
   "execution_count": 566,
   "metadata": {},
   "outputs": [
    {
     "data": {
      "text/plain": [
       "array([[ 1,  3,  5,  7],\n",
       "       [-1,  2, -3,  0],\n",
       "       [ 0,  1,  1, -1],\n",
       "       [ 0,  2,  1,  1],\n",
       "       [-2,  4, -5,  4]])"
      ]
     },
     "execution_count": 566,
     "metadata": {},
     "output_type": "execute_result"
    }
   ],
   "source": [
    "A = np.array([\n",
    "    [1, 3, 5, 7], [-1, 2, -3, 0], [0, 1, 1, -1], [0, 2, 1, 1], [-2, 4, -5, 4]\n",
    "])\n",
    "A\n"
   ]
  },
  {
   "cell_type": "code",
   "execution_count": 567,
   "metadata": {},
   "outputs": [
    {
     "data": {
      "text/plain": [
       "(array([-0.4,  2.4, -0.2,  2.2]),\n",
       " array([[ 1.4,  0.6,  5.2,  4.8],\n",
       "        [-0.6, -0.4, -2.8, -2.2],\n",
       "        [ 0.4, -1.4,  1.2, -3.2],\n",
       "        [ 0.4, -0.4,  1.2, -1.2],\n",
       "        [-1.6,  1.6, -4.8,  1.8]]))"
      ]
     },
     "execution_count": 567,
     "metadata": {},
     "output_type": "execute_result"
    }
   ],
   "source": [
    "center = np.mean(A, axis=0)\n",
    "Ac = A - center\n",
    "center, Ac"
   ]
  },
  {
   "cell_type": "code",
   "execution_count": 568,
   "metadata": {},
   "outputs": [],
   "source": [
    "U, S, V = np.linalg.svd(Ac)\n"
   ]
  },
  {
   "cell_type": "code",
   "execution_count": 569,
   "metadata": {},
   "outputs": [
    {
     "data": {
      "text/plain": [
       "array([[-1.,  0., -0.,  0.,  0.],\n",
       "       [ 0., -0., -1.,  0.,  0.],\n",
       "       [ 0., -1., -0., -1.,  0.],\n",
       "       [-0., -0.,  1.,  0.,  0.],\n",
       "       [ 0.,  1.,  0., -0.,  0.]])"
      ]
     },
     "execution_count": 569,
     "metadata": {},
     "output_type": "execute_result"
    }
   ],
   "source": [
    "U.round()\n"
   ]
  },
  {
   "cell_type": "code",
   "execution_count": 570,
   "metadata": {},
   "outputs": [
    {
     "data": {
      "text/plain": [
       "array([8.67754781, 6.21118462, 0.30880082, 0.16121905])"
      ]
     },
     "execution_count": 570,
     "metadata": {},
     "output_type": "execute_result"
    }
   ],
   "source": [
    "S\n"
   ]
  },
  {
   "cell_type": "code",
   "execution_count": 571,
   "metadata": {},
   "outputs": [
    {
     "data": {
      "text/plain": [
       "array([[-0.23581841, -0.00340404, -0.84798065, -0.47466506],\n",
       "       [-0.15954435,  0.36448918, -0.41507454,  0.81817258],\n",
       "       [-0.31001581,  0.85999248,  0.25783601, -0.31276784],\n",
       "       [ 0.90709728,  0.35713999, -0.2053352 , -0.08638866]])"
      ]
     },
     "execution_count": 571,
     "metadata": {},
     "output_type": "execute_result"
    }
   ],
   "source": [
    "V\n"
   ]
  },
  {
   "cell_type": "code",
   "execution_count": 572,
   "metadata": {},
   "outputs": [
    {
     "data": {
      "text/plain": [
       "(array([-0.24, -0.  , -0.85, -0.47]), array([-0.16,  0.36, -0.42,  0.82]))"
      ]
     },
     "execution_count": 572,
     "metadata": {},
     "output_type": "execute_result"
    }
   ],
   "source": [
    "b1, b2 = V[:2].round(2)\n",
    "b1, b2\n"
   ]
  },
  {
   "cell_type": "code",
   "execution_count": 573,
   "metadata": {},
   "outputs": [
    {
     "data": {
      "text/plain": [
       "array([[-7.81,  4.59,  1.37,  0.35],\n",
       "       [ 2.77,  2.13,  1.26,  0.42],\n",
       "       [-0.38, -0.87,  1.43,  0.24],\n",
       "       [-1.33,  1.13,  1.67,  0.42],\n",
       "       [ 2.8 ,  7.13,  1.52,  0.3 ]])"
      ]
     },
     "execution_count": 573,
     "metadata": {},
     "output_type": "execute_result"
    }
   ],
   "source": [
    "Anew = A.dot(V.T).round(2)\n",
    "Anew\n"
   ]
  },
  {
   "cell_type": "code",
   "execution_count": 574,
   "metadata": {},
   "outputs": [
    {
     "data": {
      "text/plain": [
       "array([[-0.81, -4.43, -5.52],\n",
       "       [-0.76,  1.01, -2.19],\n",
       "       [ 0.3 , -2.6 , -0.54],\n",
       "       [-0.21, -2.54, -2.33],\n",
       "       [-2.2 ,  3.09, -6.08]])"
      ]
     },
     "execution_count": 574,
     "metadata": {},
     "output_type": "execute_result"
    }
   ],
   "source": [
    "# v = v3 + b1 * t1 + b2 * t2\n",
    "# v = t1 * v1 + t2 * v2 + t3 * v3\n",
    "# 1 = t1 + t2 + t3 \n",
    "# v = t1 * center + t2 * b1 + t3 * b2\n",
    "# scalars = [t1, t2, t3]\n",
    "\n",
    "A = np.vstack((center, b1, b2))[:3]\n",
    "b = Anew[:, :3].T\n",
    "scalars = np.linalg.pinv(A).dot(b)\n",
    "scalars[:3].T.round(2)\n"
   ]
  },
  {
   "cell_type": "code",
   "execution_count": 575,
   "metadata": {},
   "outputs": [
    {
     "name": "stdout",
     "output_type": "stream",
     "text": [
      "(1.4, -0.6, 0.4, 0.4, -1.6) (0.6000000000000001, -0.3999999999999999, -1.4, -0.3999999999999999, 1.6)\n"
     ]
    },
    {
     "data": {
      "image/png": "[encoded data removed]",
      "text/plain": [
       "<Figure size 640x480 with 1 Axes>"
      ]
     },
     "metadata": {},
     "output_type": "display_data"
    }
   ],
   "source": [
    "x, y ,z,w = zip(*Ac)\n",
    "print(x, y)\n",
    "plt.plot(x, y)\n",
    "plt.show()\n"
   ]
  }
 ],
 "metadata": {
  "kernelspec": {
   "display_name": "Python 3",
   "language": "python",
   "name": "python3"
  },
  "language_info": {
   "codemirror_mode": {
    "name": "ipython",
    "version": 3
   },
   "file_extension": ".py",
   "mimetype": "text/x-python",
   "name": "python",
   "nbconvert_exporter": "python",
   "pygments_lexer": "ipython3",
   "version": "3.11.1"
  },
  "orig_nbformat": 4,
  "vscode": {
   "interpreter": {
    "hash": "aee8b7b246df8f9039afb4144a1f6fd8d2ca17a180786b69acc140d282b71a49"
   }
  }
 },
 "nbformat": 4,
 "nbformat_minor": 2
}
