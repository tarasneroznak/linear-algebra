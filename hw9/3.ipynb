{
 "cells": [
  {
   "cell_type": "code",
   "execution_count": 25,
   "metadata": {},
   "outputs": [],
   "source": [
    "import numpy as np\n",
    "import pandas as pd\n",
    "from sklearn.linear_model import LinearRegression\n"
   ]
  },
  {
   "attachments": {},
   "cell_type": "markdown",
   "metadata": {},
   "source": [
    "There are twenty 6-dimensional vectors given in “dimreduction.cvs” file.\n",
    "\n",
    "Reduce the number of dimensions of the dataset.\n",
    "\n",
    "How many columns do you need? Find a new reference frame (a new basis and a\n",
    "new origin) of the reduced dataset.\n"
   ]
  },
  {
   "cell_type": "code",
   "execution_count": 26,
   "metadata": {},
   "outputs": [
    {
     "data": {
      "text/html": [
       "<div>\n",
       "<style scoped>\n",
       "    .dataframe tbody tr th:only-of-type {\n",
       "        vertical-align: middle;\n",
       "    }\n",
       "\n",
       "    .dataframe tbody tr th {\n",
       "        vertical-align: top;\n",
       "    }\n",
       "\n",
       "    .dataframe thead th {\n",
       "        text-align: right;\n",
       "    }\n",
       "</style>\n",
       "<table border=\"1\" class=\"dataframe\">\n",
       "  <thead>\n",
       "    <tr style=\"text-align: right;\">\n",
       "      <th></th>\n",
       "      <th>0</th>\n",
       "      <th>1</th>\n",
       "      <th>2</th>\n",
       "      <th>3</th>\n",
       "      <th>4</th>\n",
       "      <th>5</th>\n",
       "    </tr>\n",
       "  </thead>\n",
       "  <tbody>\n",
       "    <tr>\n",
       "      <th>0</th>\n",
       "      <td>41</td>\n",
       "      <td>4</td>\n",
       "      <td>54</td>\n",
       "      <td>26</td>\n",
       "      <td>17</td>\n",
       "      <td>39</td>\n",
       "    </tr>\n",
       "    <tr>\n",
       "      <th>1</th>\n",
       "      <td>22</td>\n",
       "      <td>26</td>\n",
       "      <td>26</td>\n",
       "      <td>4</td>\n",
       "      <td>30</td>\n",
       "      <td>7</td>\n",
       "    </tr>\n",
       "    <tr>\n",
       "      <th>2</th>\n",
       "      <td>48</td>\n",
       "      <td>5</td>\n",
       "      <td>64</td>\n",
       "      <td>25</td>\n",
       "      <td>22</td>\n",
       "      <td>41</td>\n",
       "    </tr>\n",
       "    <tr>\n",
       "      <th>3</th>\n",
       "      <td>38</td>\n",
       "      <td>12</td>\n",
       "      <td>50</td>\n",
       "      <td>18</td>\n",
       "      <td>24</td>\n",
       "      <td>29</td>\n",
       "    </tr>\n",
       "    <tr>\n",
       "      <th>4</th>\n",
       "      <td>54</td>\n",
       "      <td>1</td>\n",
       "      <td>73</td>\n",
       "      <td>29</td>\n",
       "      <td>21</td>\n",
       "      <td>48</td>\n",
       "    </tr>\n",
       "    <tr>\n",
       "      <th>5</th>\n",
       "      <td>32</td>\n",
       "      <td>11</td>\n",
       "      <td>40</td>\n",
       "      <td>19</td>\n",
       "      <td>19</td>\n",
       "      <td>28</td>\n",
       "    </tr>\n",
       "    <tr>\n",
       "      <th>6</th>\n",
       "      <td>30</td>\n",
       "      <td>27</td>\n",
       "      <td>37</td>\n",
       "      <td>3</td>\n",
       "      <td>34</td>\n",
       "      <td>10</td>\n",
       "    </tr>\n",
       "    <tr>\n",
       "      <th>7</th>\n",
       "      <td>53</td>\n",
       "      <td>9</td>\n",
       "      <td>73</td>\n",
       "      <td>21</td>\n",
       "      <td>28</td>\n",
       "      <td>41</td>\n",
       "    </tr>\n",
       "    <tr>\n",
       "      <th>8</th>\n",
       "      <td>43</td>\n",
       "      <td>5</td>\n",
       "      <td>57</td>\n",
       "      <td>25</td>\n",
       "      <td>19</td>\n",
       "      <td>39</td>\n",
       "    </tr>\n",
       "    <tr>\n",
       "      <th>9</th>\n",
       "      <td>54</td>\n",
       "      <td>2</td>\n",
       "      <td>73</td>\n",
       "      <td>28</td>\n",
       "      <td>22</td>\n",
       "      <td>47</td>\n",
       "    </tr>\n",
       "    <tr>\n",
       "      <th>10</th>\n",
       "      <td>25</td>\n",
       "      <td>16</td>\n",
       "      <td>29</td>\n",
       "      <td>14</td>\n",
       "      <td>21</td>\n",
       "      <td>19</td>\n",
       "    </tr>\n",
       "    <tr>\n",
       "      <th>11</th>\n",
       "      <td>36</td>\n",
       "      <td>14</td>\n",
       "      <td>47</td>\n",
       "      <td>16</td>\n",
       "      <td>25</td>\n",
       "      <td>26</td>\n",
       "    </tr>\n",
       "    <tr>\n",
       "      <th>12</th>\n",
       "      <td>42</td>\n",
       "      <td>18</td>\n",
       "      <td>56</td>\n",
       "      <td>12</td>\n",
       "      <td>31</td>\n",
       "      <td>26</td>\n",
       "    </tr>\n",
       "    <tr>\n",
       "      <th>13</th>\n",
       "      <td>39</td>\n",
       "      <td>12</td>\n",
       "      <td>51</td>\n",
       "      <td>18</td>\n",
       "      <td>24</td>\n",
       "      <td>30</td>\n",
       "    </tr>\n",
       "    <tr>\n",
       "      <th>14</th>\n",
       "      <td>41</td>\n",
       "      <td>22</td>\n",
       "      <td>54</td>\n",
       "      <td>8</td>\n",
       "      <td>34</td>\n",
       "      <td>21</td>\n",
       "    </tr>\n",
       "    <tr>\n",
       "      <th>15</th>\n",
       "      <td>55</td>\n",
       "      <td>5</td>\n",
       "      <td>74</td>\n",
       "      <td>25</td>\n",
       "      <td>25</td>\n",
       "      <td>45</td>\n",
       "    </tr>\n",
       "    <tr>\n",
       "      <th>16</th>\n",
       "      <td>45</td>\n",
       "      <td>7</td>\n",
       "      <td>59</td>\n",
       "      <td>23</td>\n",
       "      <td>22</td>\n",
       "      <td>38</td>\n",
       "    </tr>\n",
       "    <tr>\n",
       "      <th>17</th>\n",
       "      <td>37</td>\n",
       "      <td>21</td>\n",
       "      <td>47</td>\n",
       "      <td>9</td>\n",
       "      <td>32</td>\n",
       "      <td>20</td>\n",
       "    </tr>\n",
       "    <tr>\n",
       "      <th>18</th>\n",
       "      <td>53</td>\n",
       "      <td>1</td>\n",
       "      <td>72</td>\n",
       "      <td>29</td>\n",
       "      <td>20</td>\n",
       "      <td>48</td>\n",
       "    </tr>\n",
       "    <tr>\n",
       "      <th>19</th>\n",
       "      <td>27</td>\n",
       "      <td>24</td>\n",
       "      <td>33</td>\n",
       "      <td>6</td>\n",
       "      <td>30</td>\n",
       "      <td>12</td>\n",
       "    </tr>\n",
       "  </tbody>\n",
       "</table>\n",
       "</div>"
      ],
      "text/plain": [
       "     0   1   2   3   4   5\n",
       "0   41   4  54  26  17  39\n",
       "1   22  26  26   4  30   7\n",
       "2   48   5  64  25  22  41\n",
       "3   38  12  50  18  24  29\n",
       "4   54   1  73  29  21  48\n",
       "5   32  11  40  19  19  28\n",
       "6   30  27  37   3  34  10\n",
       "7   53   9  73  21  28  41\n",
       "8   43   5  57  25  19  39\n",
       "9   54   2  73  28  22  47\n",
       "10  25  16  29  14  21  19\n",
       "11  36  14  47  16  25  26\n",
       "12  42  18  56  12  31  26\n",
       "13  39  12  51  18  24  30\n",
       "14  41  22  54   8  34  21\n",
       "15  55   5  74  25  25  45\n",
       "16  45   7  59  23  22  38\n",
       "17  37  21  47   9  32  20\n",
       "18  53   1  72  29  20  48\n",
       "19  27  24  33   6  30  12"
      ]
     },
     "execution_count": 26,
     "metadata": {},
     "output_type": "execute_result"
    }
   ],
   "source": [
    "D = pd.read_csv('./3.csv', header=None)\n",
    "A = D.to_numpy()\n",
    "D\n"
   ]
  },
  {
   "cell_type": "code",
   "execution_count": 27,
   "metadata": {},
   "outputs": [],
   "source": [
    "center = np.mean(A, axis=0)\n",
    "Ac = A - center"
   ]
  },
  {
   "cell_type": "code",
   "execution_count": 28,
   "metadata": {},
   "outputs": [],
   "source": [
    "U, S, V = np.linalg.svd(Ac)\n"
   ]
  },
  {
   "cell_type": "code",
   "execution_count": 29,
   "metadata": {},
   "outputs": [
    {
     "data": {
      "text/plain": [
       "array([[-0.1 ,  0.34, -0.14,  0.18, -0.15,  0.32,  0.3 ,  0.06, -0.23,\n",
       "        -0.1 ,  0.18,  0.15,  0.11,  0.01,  0.04, -0.05, -0.04,  0.46,\n",
       "        -0.31,  0.4 ],\n",
       "       [ 0.42,  0.04,  0.32,  0.21,  0.21,  0.46,  0.12,  0.17,  0.12,\n",
       "         0.12, -0.1 , -0.05,  0.23,  0.06,  0.4 ,  0.22,  0.11,  0.03,\n",
       "         0.23, -0.07],\n",
       "       [-0.18,  0.05,  0.27, -0.09,  0.  , -0.16, -0.11,  0.6 , -0.09,\n",
       "        -0.22, -0.34,  0.1 ,  0.34,  0.01,  0.08, -0.24, -0.3 , -0.12,\n",
       "        -0.06,  0.12],\n",
       "       [ 0.04,  0.08,  0.28,  0.3 ,  0.01, -0.37, -0.02,  0.01, -0.33,\n",
       "        -0.1 , -0.15, -0.51, -0.06, -0.21, -0.03,  0.28,  0.1 ,  0.28,\n",
       "        -0.21, -0.17],\n",
       "       [-0.31,  0.01,  0.27, -0.08, -0.05, -0.11,  0.34, -0.39,  0.13,\n",
       "        -0.33,  0.2 , -0.2 ,  0.1 ,  0.04,  0.5 , -0.18, -0.01, -0.19,\n",
       "         0.  , -0.  ]])"
      ]
     },
     "execution_count": 29,
     "metadata": {},
     "output_type": "execute_result"
    }
   ],
   "source": [
    "U.round(2)[:5, :]\n"
   ]
  },
  {
   "cell_type": "code",
   "execution_count": 30,
   "metadata": {},
   "outputs": [
    {
     "data": {
      "text/plain": [
       "array([108.,  36.,   2.,   1.,   1.,   0.])"
      ]
     },
     "execution_count": 30,
     "metadata": {},
     "output_type": "execute_result"
    }
   ],
   "source": [
    "S.round()\n"
   ]
  },
  {
   "cell_type": "code",
   "execution_count": 31,
   "metadata": {},
   "outputs": [
    {
     "data": {
      "text/plain": [
       "array([[-0.4 ,  0.32, -0.59, -0.32,  0.12, -0.52],\n",
       "       [-0.33, -0.39, -0.5 ,  0.39, -0.54,  0.22],\n",
       "       [ 0.06, -0.49,  0.  ,  0.49,  0.46, -0.55],\n",
       "       [-0.7 , -0.01,  0.62,  0.01, -0.24, -0.25],\n",
       "       [-0.49, -0.04, -0.08,  0.04,  0.66,  0.57],\n",
       "       [ 0.  , -0.71, -0.  , -0.71, -0.  ,  0.  ]])"
      ]
     },
     "execution_count": 31,
     "metadata": {},
     "output_type": "execute_result"
    }
   ],
   "source": [
    "V.round(2)\n"
   ]
  },
  {
   "cell_type": "code",
   "execution_count": 32,
   "metadata": {},
   "outputs": [
    {
     "data": {
      "text/plain": [
       "array([[107.72,   0.  ,   0.  ,   0.  ,   0.  ,   0.  ],\n",
       "       [  0.  ,  35.61,   0.  ,   0.  ,   0.  ,   0.  ],\n",
       "       [  0.  ,   0.  ,   1.5 ,   0.  ,   0.  ,   0.  ],\n",
       "       [  0.  ,   0.  ,   0.  ,   1.46,   0.  ,   0.  ],\n",
       "       [  0.  ,   0.  ,   0.  ,   0.  ,   0.87,   0.  ],\n",
       "       [  0.  ,   0.  ,   0.  ,   0.  ,   0.  ,   0.  ],\n",
       "       [  0.  ,   0.  ,   0.  ,   0.  ,   0.  ,   0.  ],\n",
       "       [  0.  ,   0.  ,   0.  ,   0.  ,   0.  ,   0.  ],\n",
       "       [  0.  ,   0.  ,   0.  ,   0.  ,   0.  ,   0.  ],\n",
       "       [  0.  ,   0.  ,   0.  ,   0.  ,   0.  ,   0.  ],\n",
       "       [  0.  ,   0.  ,   0.  ,   0.  ,   0.  ,   0.  ],\n",
       "       [  0.  ,   0.  ,   0.  ,   0.  ,   0.  ,   0.  ],\n",
       "       [  0.  ,   0.  ,   0.  ,   0.  ,   0.  ,   0.  ],\n",
       "       [  0.  ,   0.  ,   0.  ,   0.  ,   0.  ,   0.  ],\n",
       "       [  0.  ,   0.  ,   0.  ,   0.  ,   0.  ,   0.  ],\n",
       "       [  0.  ,   0.  ,   0.  ,   0.  ,   0.  ,   0.  ],\n",
       "       [  0.  ,   0.  ,   0.  ,   0.  ,   0.  ,   0.  ],\n",
       "       [  0.  ,   0.  ,   0.  ,   0.  ,   0.  ,   0.  ],\n",
       "       [  0.  ,   0.  ,   0.  ,   0.  ,   0.  ,   0.  ],\n",
       "       [  0.  ,   0.  ,   0.  ,   0.  ,   0.  ,   0.  ]])"
      ]
     },
     "execution_count": 32,
     "metadata": {},
     "output_type": "execute_result"
    }
   ],
   "source": [
    "S = np.diag(S).round(2)\n",
    "Sz = np.zeros((14, 6))\n",
    "S = np.concatenate((S, Sz), axis=0)\n",
    "S\n"
   ]
  },
  {
   "cell_type": "code",
   "execution_count": 33,
   "metadata": {},
   "outputs": [
    {
     "data": {
      "text/plain": [
       "array([[-11.,  12.,  -0.,   0.,  -0.,  -0.],\n",
       "       [ 46.,   1.,   0.,   0.,   0.,  -0.],\n",
       "       [-19.,   2.,   0.,  -0.,   0.,   0.],\n",
       "       [  4.,   3.,   0.,   0.,   0.,  -0.],\n",
       "       [-33.,   0.,   0.,  -0.,  -0.,   0.],\n",
       "       [ 11.,  13.,  -1.,  -0.,  -0.,  -0.],\n",
       "       [ 35.,  -9.,   0.,  -0.,  -0.,  -0.],\n",
       "       [-23., -11.,  -1.,   0.,   1.,   0.],\n",
       "       [-13.,   8.,  -0.,   0.,  -0.,  -0.],\n",
       "       [-32.,  -1.,   0.,  -0.,  -0.,   0.],\n",
       "       [ 29.,  14.,  -0.,  -0.,   0.,  -0.],\n",
       "       [  9.,   2.,   0.,   0.,   0.,  -0.],\n",
       "       [  5., -11.,  -0.,   0.,   0.,   0.],\n",
       "       [  2.,   2.,  -0.,   0.,   0.,  -0.],\n",
       "       [ 12., -15.,  -0.,   0.,  -0.,   0.],\n",
       "       [-30.,  -6.,  -0.,  -1.,   0.,   0.],\n",
       "       [-12.,   3.,  -0.,  -0.,   0.,   0.],\n",
       "       [ 17.,  -9.,   0.,  -1.,   0.,  -0.],\n",
       "       [-33.,   2.,  -0.,   0.,  -0.,   0.],\n",
       "       [ 36.,  -1.,  -0.,  -0.,   0.,  -0.]])"
      ]
     },
     "execution_count": 33,
     "metadata": {},
     "output_type": "execute_result"
    }
   ],
   "source": [
    "Ac.dot(V.T).round()\n"
   ]
  },
  {
   "cell_type": "code",
   "execution_count": 34,
   "metadata": {},
   "outputs": [
    {
     "data": {
      "text/plain": [
       "(array([-0.4 , -0.33]), array([ 0.32, -0.39]))"
      ]
     },
     "execution_count": 34,
     "metadata": {},
     "output_type": "execute_result"
    }
   ],
   "source": [
    "b1, b2 = V.T[:2, :2].round(2)\n",
    "b1, b2\n"
   ]
  },
  {
   "cell_type": "code",
   "execution_count": 35,
   "metadata": {},
   "outputs": [
    {
     "data": {
      "text/plain": [
       "(array([[-11.,  12.,  -0.,   0.,  -0.,   0.],\n",
       "        [ 46.,   1.,   0.,   0.,   0.,   0.],\n",
       "        [-19.,   2.,   0.,  -0.,   0.,   0.],\n",
       "        [  4.,   3.,   0.,   0.,   0.,   0.],\n",
       "        [-33.,   0.,   0.,  -0.,  -0.,   0.],\n",
       "        [ 11.,  13.,  -1.,  -0.,  -0.,   0.],\n",
       "        [ 35.,  -9.,   0.,  -0.,  -0.,   0.],\n",
       "        [-23., -11.,  -1.,   0.,   1.,   0.],\n",
       "        [-13.,   8.,  -0.,   0.,  -0.,   0.],\n",
       "        [-32.,  -1.,   0.,  -0.,  -0.,   0.],\n",
       "        [ 29.,  14.,  -0.,  -0.,   0.,   0.],\n",
       "        [  9.,   2.,   0.,   0.,   0.,   0.],\n",
       "        [  5., -11.,  -0.,   0.,   0.,   0.],\n",
       "        [  2.,   2.,  -0.,   0.,   0.,   0.],\n",
       "        [ 12., -15.,  -0.,   0.,  -0.,   0.],\n",
       "        [-30.,  -6.,  -0.,  -1.,   0.,   0.],\n",
       "        [-12.,   3.,  -0.,  -0.,   0.,   0.],\n",
       "        [ 17.,  -9.,   0.,  -1.,   0.,   0.],\n",
       "        [-33.,   2.,  -0.,   0.,  -0.,   0.],\n",
       "        [ 36.,  -1.,  -0.,  -0.,   0.,   0.]]),\n",
       " array([[-11.,  46., -19.,   4., -33.,  11.,  35., -23., -13., -32.,  29.,\n",
       "           9.,   5.,   2.,  12., -30., -12.,  17., -33.,  36.],\n",
       "        [ 12.,   1.,   2.,   3.,   0.,  13.,  -9., -11.,   8.,  -1.,  14.,\n",
       "           2., -11.,   2., -15.,  -6.,   3.,  -9.,   2.,  -1.],\n",
       "        [ -0.,   0.,   0.,   0.,   0.,  -1.,   0.,  -1.,  -0.,   0.,  -0.,\n",
       "           0.,  -0.,  -0.,  -0.,  -0.,  -0.,   0.,  -0.,  -0.],\n",
       "        [  0.,   0.,  -0.,   0.,  -0.,  -0.,  -0.,   0.,   0.,  -0.,  -0.,\n",
       "           0.,   0.,   0.,   0.,  -1.,  -0.,  -1.,   0.,  -0.],\n",
       "        [ -0.,   0.,   0.,   0.,  -0.,  -0.,  -0.,   1.,  -0.,  -0.,   0.,\n",
       "           0.,   0.,   0.,  -0.,   0.,   0.,   0.,  -0.,   0.],\n",
       "        [  0.,   0.,   0.,   0.,   0.,   0.,   0.,   0.,   0.,   0.,   0.,\n",
       "           0.,   0.,   0.,   0.,   0.,   0.,   0.,   0.,   0.]]))"
      ]
     },
     "execution_count": 35,
     "metadata": {},
     "output_type": "execute_result"
    }
   ],
   "source": [
    "US = U.dot(S).round()\n",
    "US, US.T\n"
   ]
  },
  {
   "cell_type": "code",
   "execution_count": 36,
   "metadata": {},
   "outputs": [
    {
     "data": {
      "text/plain": [
       "array([[-0., -0.,  0., -1., -0.,  0.],\n",
       "       [ 0., -0., -0., -0., -0., -1.],\n",
       "       [-1., -1.,  0.,  1., -0., -0.],\n",
       "       [-0.,  0.,  0.,  0.,  0., -1.],\n",
       "       [ 0., -1.,  0., -0.,  1., -0.],\n",
       "       [-1.,  0., -1., -0.,  1.,  0.]])"
      ]
     },
     "execution_count": 36,
     "metadata": {},
     "output_type": "execute_result"
    }
   ],
   "source": [
    "V.T.round()\n"
   ]
  }
 ],
 "metadata": {
  "kernelspec": {
   "display_name": "Python 3",
   "language": "python",
   "name": "python3"
  },
  "language_info": {
   "codemirror_mode": {
    "name": "ipython",
    "version": 3
   },
   "file_extension": ".py",
   "mimetype": "text/x-python",
   "name": "python",
   "nbconvert_exporter": "python",
   "pygments_lexer": "ipython3",
   "version": "3.11.1"
  },
  "orig_nbformat": 4,
  "vscode": {
   "interpreter": {
    "hash": "aee8b7b246df8f9039afb4144a1f6fd8d2ca17a180786b69acc140d282b71a49"
   }
  }
 },
 "nbformat": 4,
 "nbformat_minor": 2
}
