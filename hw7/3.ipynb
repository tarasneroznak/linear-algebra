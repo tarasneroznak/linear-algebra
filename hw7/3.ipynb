{
 "cells": [
  {
   "cell_type": "code",
   "execution_count": 1,
   "metadata": {},
   "outputs": [],
   "source": [
    "import numpy as np"
   ]
  },
  {
   "attachments": {},
   "cell_type": "markdown",
   "metadata": {},
   "source": [
    "Find the projection of a vector b = (3, 3, 3) onto the plane x + 2z = y.\n",
    "\n",
    "What is the projection matrix?"
   ]
  },
  {
   "cell_type": "code",
   "execution_count": 2,
   "metadata": {},
   "outputs": [
    {
     "name": "stdout",
     "output_type": "stream",
     "text": [
      "M: [[ 0.83333333  0.16666667 -0.33333333]\n",
      " [ 0.16666667  0.83333333  0.33333333]\n",
      " [-0.33333333  0.33333333  0.33333333]]\n",
      "proj: [2. 4. 1.]\n",
      "equal: True\n"
     ]
    }
   ],
   "source": [
    "# x + 2z = y\n",
    "# x - y + 2z = 0\n",
    "\n",
    "b = np.array([3,3,3])\n",
    "\n",
    "# basis vectors\n",
    "u = [0, 4, 2] # 0 + 2 * 2 = 4\n",
    "v = [1, 7, 3] # 1 + 2 * 3 = 7\n",
    "\n",
    "unit_u = u / np.linalg.norm(u)\n",
    "unit_v = v / np.linalg.norm(v)\n",
    "\n",
    "A = np.array([\n",
    "    unit_u, \n",
    "    unit_v\n",
    "]).T\n",
    "\n",
    "P = A.dot(np.linalg.inv(A.T.dot(A))).dot(A.T)\n",
    "p = P.dot(b)\n",
    "\n",
    "print(f\"M: {P}\")\n",
    "print(f\"proj: {p}\")\n",
    "x,y,z = p.round(0)\n",
    "print(f\"equal: {x + 2 * z == y}\")"
   ]
  }
 ],
 "metadata": {
  "kernelspec": {
   "display_name": "Python 3",
   "language": "python",
   "name": "python3"
  },
  "language_info": {
   "codemirror_mode": {
    "name": "ipython",
    "version": 3
   },
   "file_extension": ".py",
   "mimetype": "text/x-python",
   "name": "python",
   "nbconvert_exporter": "python",
   "pygments_lexer": "ipython3",
   "version": "3.11.1"
  },
  "orig_nbformat": 4,
  "vscode": {
   "interpreter": {
    "hash": "aee8b7b246df8f9039afb4144a1f6fd8d2ca17a180786b69acc140d282b71a49"
   }
  }
 },
 "nbformat": 4,
 "nbformat_minor": 2
}
