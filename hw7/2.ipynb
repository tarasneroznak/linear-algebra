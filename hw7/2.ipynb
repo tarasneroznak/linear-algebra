{
 "cells": [
  {
   "cell_type": "code",
   "execution_count": 7,
   "metadata": {},
   "outputs": [],
   "source": [
    "import numpy as np\n"
   ]
  },
  {
   "attachments": {},
   "cell_type": "markdown",
   "metadata": {},
   "source": [
    "Find the affine transformation (affine matrix) if we know that it transforms vectors as shown bellow:\n",
    "\n",
    "a = (1, 2) —> a’ = (9, 15)\n",
    "\n",
    "b = (2, 1) —> b’ = (8, 14)\n",
    "\n",
    "c = (3, 3) —> c’ = (16, 28)"
   ]
  },
  {
   "cell_type": "code",
   "execution_count": 8,
   "metadata": {},
   "outputs": [],
   "source": [
    "a = np.array([1, 2])\n",
    "b = np.array([2, 1])\n",
    "c = np.array([3, 3])\n",
    "a1 = np.array([9, 15])\n",
    "b1 = np.array([8, 14])\n",
    "c1 = np.array([16, 28])\n",
    "\n",
    "ax, ay = a\n",
    "bx, by = b\n",
    "cx, cy = c\n",
    "a1x, a1y = a1\n",
    "b1x, b1y = b1\n",
    "c1x, c1y = c1"
   ]
  },
  {
   "attachments": {},
   "cell_type": "markdown",
   "metadata": {},
   "source": [
    "```\n",
    "m1 * ax + m2 * ay + tx = a1x\n",
    "m3 * ax + m4 * ay + ty = a1y\n",
    "m1 * bx + m2 * by + tx = b1x\n",
    "m3 * bx + m4 * by + ty = b1y\n",
    "m1 * cx + m2 * cy + tx = c1x\n",
    "m3 * cx + m4 * cy + ty = c1y\n",
    "\n",
    "m1 + 2m2 + tx = 9\n",
    "m1 + 2m4 + ty = 15\n",
    "2m1 + m2 + tx = 8\n",
    "2m3 + m4 + ty = 14\n",
    "3m1 + 3m2 + tx = 16\n",
    "3m3 + 3m4 + ty = 28\n",
    "\n",
    "A = [\n",
    "    [0, 0, 0, 1, 2, 1], \n",
    "    [1, 2, 1, 0, 0, 0], \n",
    "    [0, 0, 0, 2, 1, 1],\n",
    "    [2, 1, 1, 0, 0, 0],\n",
    "    [0, 0, 0, 3, 3, 1],\n",
    "    [3, 3, 1, 0, 0, 0]\n",
    "]\n",
    "\n",
    "B = [[\n",
    "    9,\n",
    "    15,\n",
    "    8,\n",
    "    14,\n",
    "    16,\n",
    "    28\n",
    "]]\n",
    "\n",
    "M = A^-1 * B = [\n",
    "    [2 3 1]\n",
    "    [4 5 1]\n",
    "    [0 0 1]\n",
    "]\n",
    "```"
   ]
  },
  {
   "cell_type": "code",
   "execution_count": 9,
   "metadata": {},
   "outputs": [
    {
     "name": "stdout",
     "output_type": "stream",
     "text": [
      "[ 9. 15.]\n",
      "[ 8. 14.]\n",
      "[16. 28.]\n"
     ]
    },
    {
     "data": {
      "text/plain": [
       "array([[2., 3., 1.],\n",
       "       [4., 5., 1.]])"
      ]
     },
     "execution_count": 9,
     "metadata": {},
     "output_type": "execute_result"
    }
   ],
   "source": [
    "A = np.array([\n",
    "    [0, 0, 0, ax, ay, 1],\n",
    "    [ax, ay, 1, 0, 0, 0],\n",
    "    [0, 0, 0, bx, by, 1],\n",
    "    [bx, by, 1, 0, 0, 0],\n",
    "    [0, 0, 0, cx, cy, 1],\n",
    "    [cx, cy, 1, 0, 0, 0]\n",
    "])\n",
    "A1 = np.linalg.inv(A)\n",
    "\n",
    "B = np.array([[a1x, a1y, b1x, b1y, c1x, c1y]]).T\n",
    "\n",
    "m3, m4, tx, m1, m2, ty = A1.dot(B)\n",
    "\n",
    "M = np.array([\n",
    "    [m1[0], m2[0], tx[0]],\n",
    "    [m3[0], m4[0], ty[0]],\n",
    "    # [0, 0, 1],\n",
    "])\n",
    "\n",
    "a2 = M.dot(np.concatenate([a, [1]]))\n",
    "b2 = M.dot(np.concatenate([b, [1]]))\n",
    "c2 = M.dot(np.concatenate([c, [1]]))\n",
    "\n",
    "print(a2)\n",
    "print(b2)\n",
    "print(c2)\n",
    "M"
   ]
  }
 ],
 "metadata": {
  "kernelspec": {
   "display_name": "Python 3",
   "language": "python",
   "name": "python3"
  },
  "language_info": {
   "codemirror_mode": {
    "name": "ipython",
    "version": 3
   },
   "file_extension": ".py",
   "mimetype": "text/x-python",
   "name": "python",
   "nbconvert_exporter": "python",
   "pygments_lexer": "ipython3",
   "version": "3.11.1"
  },
  "orig_nbformat": 4,
  "vscode": {
   "interpreter": {
    "hash": "aee8b7b246df8f9039afb4144a1f6fd8d2ca17a180786b69acc140d282b71a49"
   }
  }
 },
 "nbformat": 4,
 "nbformat_minor": 2
}
