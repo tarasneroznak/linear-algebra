{
 "cells": [
  {
   "cell_type": "code",
   "execution_count": 1,
   "metadata": {},
   "outputs": [],
   "source": [
    "import numpy as np\n",
    "import pandas as pd\n",
    "from PIL import Image"
   ]
  },
  {
   "attachments": {},
   "cell_type": "markdown",
   "metadata": {},
   "source": [
    "Normalize the given images so the size of any image will be 128 by 128 pixels and cat’s eyes have coordinates (44, 64) and (84, 64) as shown in the picture. The location of the eyes in the original images are given in the cats.csv file.\n",
    "\n",
    "![alt text](./4_assets/4.png)"
   ]
  },
  {
   "cell_type": "code",
   "execution_count": 2,
   "metadata": {},
   "outputs": [
    {
     "data": {
      "text/html": [
       "<div>\n",
       "<style scoped>\n",
       "    .dataframe tbody tr th:only-of-type {\n",
       "        vertical-align: middle;\n",
       "    }\n",
       "\n",
       "    .dataframe tbody tr th {\n",
       "        vertical-align: top;\n",
       "    }\n",
       "\n",
       "    .dataframe thead th {\n",
       "        text-align: right;\n",
       "    }\n",
       "</style>\n",
       "<table border=\"1\" class=\"dataframe\">\n",
       "  <thead>\n",
       "    <tr style=\"text-align: right;\">\n",
       "      <th></th>\n",
       "      <th>file</th>\n",
       "      <th>x1</th>\n",
       "      <th>y1</th>\n",
       "      <th>x2</th>\n",
       "      <th>y2</th>\n",
       "    </tr>\n",
       "  </thead>\n",
       "  <tbody>\n",
       "    <tr>\n",
       "      <th>0</th>\n",
       "      <td>cat-1.jpg</td>\n",
       "      <td>137</td>\n",
       "      <td>191</td>\n",
       "      <td>252</td>\n",
       "      <td>194</td>\n",
       "    </tr>\n",
       "    <tr>\n",
       "      <th>1</th>\n",
       "      <td>cat-2.jpg</td>\n",
       "      <td>745</td>\n",
       "      <td>625</td>\n",
       "      <td>1128</td>\n",
       "      <td>571</td>\n",
       "    </tr>\n",
       "    <tr>\n",
       "      <th>2</th>\n",
       "      <td>cat-3.jpg</td>\n",
       "      <td>340</td>\n",
       "      <td>315</td>\n",
       "      <td>560</td>\n",
       "      <td>315</td>\n",
       "    </tr>\n",
       "    <tr>\n",
       "      <th>3</th>\n",
       "      <td>cat-4.jpg</td>\n",
       "      <td>398</td>\n",
       "      <td>308</td>\n",
       "      <td>574</td>\n",
       "      <td>289</td>\n",
       "    </tr>\n",
       "    <tr>\n",
       "      <th>4</th>\n",
       "      <td>cat-5.jpg</td>\n",
       "      <td>418</td>\n",
       "      <td>422</td>\n",
       "      <td>573</td>\n",
       "      <td>545</td>\n",
       "    </tr>\n",
       "  </tbody>\n",
       "</table>\n",
       "</div>"
      ],
      "text/plain": [
       "        file   x1   y1    x2   y2\n",
       "0  cat-1.jpg  137  191   252  194\n",
       "1  cat-2.jpg  745  625  1128  571\n",
       "2  cat-3.jpg  340  315   560  315\n",
       "3  cat-4.jpg  398  308   574  289\n",
       "4  cat-5.jpg  418  422   573  545"
      ]
     },
     "execution_count": 2,
     "metadata": {},
     "output_type": "execute_result"
    }
   ],
   "source": [
    "df = pd.read_csv('./4_assets/4.csv', header=0)\n",
    "df"
   ]
  },
  {
   "cell_type": "code",
   "execution_count": 3,
   "metadata": {},
   "outputs": [],
   "source": [
    "ux = 44\n",
    "uy = 64\n",
    "vx = 84\n",
    "vy = 64\n",
    "\n",
    "B = np.array([[ux, uy, vx, uy]]).T\n",
    "\n",
    "for item in df.values:\n",
    "    file_name, x1, y1, x2, y2 = item\n",
    "\n",
    "    A = np.array([\n",
    "        [0, x1, -y1, 1],\n",
    "        [1, y1, x1, 0],\n",
    "        [0, x2, -y2, 1],\n",
    "        [1, y2, x2, 0]\n",
    "    ])\n",
    "\n",
    "    A1 = np.linalg.inv(A)\n",
    "\n",
    "    ty, c, s, tx = A1.dot(B)\n",
    "    c = c[0]\n",
    "    s = s[0]\n",
    "    tx = tx[0]\n",
    "    ty = ty[0]\n",
    "\n",
    "    M = np.array([\n",
    "        [c, -s, tx],\n",
    "        [s, c, ty],\n",
    "        [0, 0, 1],\n",
    "    ])\n",
    "\n",
    "    M1 = np.linalg.inv(M)\n",
    "\n",
    "    im = Image.open(f\"./4_assets/{file_name}\")\n",
    "    new_im = im.transform((128, 128), Image.AFFINE, M1.flatten())\n",
    "    new_im.show()\n"
   ]
  }
 ],
 "metadata": {
  "kernelspec": {
   "display_name": "Python 3",
   "language": "python",
   "name": "python3"
  },
  "language_info": {
   "codemirror_mode": {
    "name": "ipython",
    "version": 3
   },
   "file_extension": ".py",
   "mimetype": "text/x-python",
   "name": "python",
   "nbconvert_exporter": "python",
   "pygments_lexer": "ipython3",
   "version": "3.11.1"
  },
  "orig_nbformat": 4,
  "vscode": {
   "interpreter": {
    "hash": "aee8b7b246df8f9039afb4144a1f6fd8d2ca17a180786b69acc140d282b71a49"
   }
  }
 },
 "nbformat": 4,
 "nbformat_minor": 2
}
