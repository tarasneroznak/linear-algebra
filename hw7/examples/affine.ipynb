{
 "cells": [
  {
   "cell_type": "code",
   "execution_count": 1,
   "metadata": {},
   "outputs": [],
   "source": [
    "import numpy as np\n",
    "from matplotlib import pyplot as plt\n"
   ]
  },
  {
   "cell_type": "code",
   "execution_count": 2,
   "metadata": {},
   "outputs": [],
   "source": [
    "A = np.array([[0, 0, 1, 0],\n",
    "             [0, 0, 0, 1],\n",
    "             [2, -3, 1, 0],\n",
    "             [3, 2, 0, 1]])"
   ]
  },
  {
   "cell_type": "code",
   "execution_count": 3,
   "metadata": {},
   "outputs": [],
   "source": [
    "c,s,tx,ty = np.linalg.inv(A).dot(np.array([4, 7 , 7, 1]))"
   ]
  },
  {
   "cell_type": "code",
   "execution_count": 4,
   "metadata": {},
   "outputs": [],
   "source": [
    "lam = np.sqrt(c**2 + s**2)"
   ]
  },
  {
   "cell_type": "code",
   "execution_count": 5,
   "metadata": {},
   "outputs": [
    {
     "data": {
      "text/plain": [
       "2.0899424410414196"
      ]
     },
     "execution_count": 5,
     "metadata": {},
     "output_type": "execute_result"
    }
   ],
   "source": [
    "np.arccos(c/lam) "
   ]
  },
  {
   "cell_type": "code",
   "execution_count": null,
   "metadata": {},
   "outputs": [],
   "source": []
  },
  {
   "cell_type": "code",
   "execution_count": 6,
   "metadata": {},
   "outputs": [],
   "source": [
    "cube = [ np.array([0, 0]), np.array([-1, 1]), np.array([0, 2]), np.array([1, 1]), np.array([0, 0]) ]\n"
   ]
  },
  {
   "cell_type": "code",
   "execution_count": 7,
   "metadata": {},
   "outputs": [],
   "source": [
    "M = np.array([[1, -1],\n",
    "             [2, 0]])\n",
    "t = np.array([[1], [2]])"
   ]
  },
  {
   "cell_type": "code",
   "execution_count": 8,
   "metadata": {},
   "outputs": [],
   "source": [
    "quad = M.dot(np.array(cube).T) + t"
   ]
  },
  {
   "cell_type": "code",
   "execution_count": 9,
   "metadata": {},
   "outputs": [
    {
     "data": {
      "image/png": "[encoded data removed]",
      "text/plain": [
       "<Figure size 600x600 with 1 Axes>"
      ]
     },
     "metadata": {},
     "output_type": "display_data"
    }
   ],
   "source": [
    "plt.figure(figsize=(6,6))\n",
    "plt.style.use('dark_background')\n",
    "plt.axis('equal')\n",
    "\n",
    "X,Y = np.array(cube).T\n",
    "plt.plot(X, Y, c='cyan',  linewidth=2)\n",
    "\n",
    "X,Y = np.array(quad)\n",
    "plt.plot(X, Y, c='yellow',  linewidth=2)\n",
    "\n",
    "plt.show()"
   ]
  },
  {
   "cell_type": "code",
   "execution_count": null,
   "metadata": {},
   "outputs": [],
   "source": []
  },
  {
   "cell_type": "code",
   "execution_count": 10,
   "metadata": {},
   "outputs": [
    {
     "ename": "NameError",
     "evalue": "name 'line_1' is not defined",
     "output_type": "error",
     "traceback": [
      "\u001b[0;31m---------------------------------------------------------------------------\u001b[0m",
      "\u001b[0;31mNameError\u001b[0m                                 Traceback (most recent call last)",
      "Cell \u001b[0;32mIn[10], line 1\u001b[0m\n\u001b[0;32m----> 1\u001b[0m line_11 \u001b[39m=\u001b[39m \u001b[39mtuple\u001b[39m( M\u001b[39m.\u001b[39mdot(v) \u001b[39m+\u001b[39m t \u001b[39mfor\u001b[39;00m v \u001b[39min\u001b[39;00m line_1)\n\u001b[1;32m      2\u001b[0m line_22 \u001b[39m=\u001b[39m \u001b[39mtuple\u001b[39m( M\u001b[39m.\u001b[39mdot(v) \u001b[39m+\u001b[39m t \u001b[39mfor\u001b[39;00m v \u001b[39min\u001b[39;00m line_2)\n",
      "\u001b[0;31mNameError\u001b[0m: name 'line_1' is not defined"
     ]
    }
   ],
   "source": [
    "line_11 = tuple( M.dot(v) + t for v in line_1)\n",
    "line_22 = tuple( M.dot(v) + t for v in line_2)"
   ]
  },
  {
   "cell_type": "code",
   "execution_count": null,
   "metadata": {},
   "outputs": [
    {
     "data": {
      "image/png": "[encoded data removed]",
      "text/plain": [
       "<Figure size 432x432 with 1 Axes>"
      ]
     },
     "metadata": {},
     "output_type": "display_data"
    }
   ],
   "source": [
    "plt.figure(figsize=(6,6))\n",
    "plt.style.use('dark_background')\n",
    "plt.axis('equal')\n",
    "\n",
    "X,Y = np.array(line_11).T\n",
    "plt.plot(X, Y, c='yellow',  linewidth=2)\n",
    "\n",
    "X,Y = np.array(line_22).T\n",
    "plt.plot(X, Y, c='yellow',  linewidth=2)\n",
    "\n",
    "plt.show()"
   ]
  },
  {
   "cell_type": "code",
   "execution_count": null,
   "metadata": {},
   "outputs": [],
   "source": []
  }
 ],
 "metadata": {
  "kernelspec": {
   "display_name": "Python 3",
   "language": "python",
   "name": "python3"
  },
  "language_info": {
   "codemirror_mode": {
    "name": "ipython",
    "version": 3
   },
   "file_extension": ".py",
   "mimetype": "text/x-python",
   "name": "python",
   "nbconvert_exporter": "python",
   "pygments_lexer": "ipython3",
   "version": "3.11.1"
  }
 },
 "nbformat": 4,
 "nbformat_minor": 4
}
